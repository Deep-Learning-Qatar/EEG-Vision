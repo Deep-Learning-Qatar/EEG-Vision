{
  "nbformat": 4,
  "nbformat_minor": 0,
  "metadata": {
    "colab": {
      "name": "Pipeline-new.ipynb",
      "provenance": [],
      "collapsed_sections": [
        "RRv1KWh5akWX",
        "Z6WRkkPwl2SU",
        "zUi13f6oY-52",
        "HsPwA-QsZ-0o"
      ],
      "machine_shape": "hm",
      "include_colab_link": true
    },
    "kernelspec": {
      "name": "python3",
      "display_name": "Python 3"
    },
    "language_info": {
      "name": "python"
    },
    "accelerator": "GPU",
    "widgets": {
      "application/vnd.jupyter.widget-state+json": {
        "20e744cf8d9a4257bf88c7adca3c0c20": {
          "model_module": "@jupyter-widgets/controls",
          "model_name": "VBoxModel",
          "state": {
            "_view_name": "VBoxView",
            "_dom_classes": [],
            "_model_name": "VBoxModel",
            "_view_module": "@jupyter-widgets/controls",
            "_model_module_version": "1.5.0",
            "_view_count": null,
            "_view_module_version": "1.5.0",
            "box_style": "",
            "layout": "IPY_MODEL_674efb7dcf8343e38e828e82d30f735d",
            "_model_module": "@jupyter-widgets/controls",
            "children": [
              "IPY_MODEL_b3f12ddcc83a45789d2056d92325b5cb",
              "IPY_MODEL_c271c8126cc14790857003cf7ff2e60f"
            ]
          }
        },
        "674efb7dcf8343e38e828e82d30f735d": {
          "model_module": "@jupyter-widgets/base",
          "model_name": "LayoutModel",
          "state": {
            "_view_name": "LayoutView",
            "grid_template_rows": null,
            "right": null,
            "justify_content": null,
            "_view_module": "@jupyter-widgets/base",
            "overflow": null,
            "_model_module_version": "1.2.0",
            "_view_count": null,
            "flex_flow": null,
            "width": null,
            "min_width": null,
            "border": null,
            "align_items": null,
            "bottom": null,
            "_model_module": "@jupyter-widgets/base",
            "top": null,
            "grid_column": null,
            "overflow_y": null,
            "overflow_x": null,
            "grid_auto_flow": null,
            "grid_area": null,
            "grid_template_columns": null,
            "flex": null,
            "_model_name": "LayoutModel",
            "justify_items": null,
            "grid_row": null,
            "max_height": null,
            "align_content": null,
            "visibility": null,
            "align_self": null,
            "height": null,
            "min_height": null,
            "padding": null,
            "grid_auto_rows": null,
            "grid_gap": null,
            "max_width": null,
            "order": null,
            "_view_module_version": "1.2.0",
            "grid_template_areas": null,
            "object_position": null,
            "object_fit": null,
            "grid_auto_columns": null,
            "margin": null,
            "display": null,
            "left": null
          }
        },
        "b3f12ddcc83a45789d2056d92325b5cb": {
          "model_module": "@jupyter-widgets/controls",
          "model_name": "LabelModel",
          "state": {
            "_view_name": "LabelView",
            "style": "IPY_MODEL_7c412f94739e4e45a2a6bd08fb86729b",
            "_dom_classes": [],
            "description": "",
            "_model_name": "LabelModel",
            "placeholder": "​",
            "_view_module": "@jupyter-widgets/controls",
            "_model_module_version": "1.5.0",
            "value": " 0.01MB of 0.01MB uploaded (0.00MB deduped)\r",
            "_view_count": null,
            "_view_module_version": "1.5.0",
            "description_tooltip": null,
            "_model_module": "@jupyter-widgets/controls",
            "layout": "IPY_MODEL_a576e8d2751b4b56b92f4108f60e2fcc"
          }
        },
        "c271c8126cc14790857003cf7ff2e60f": {
          "model_module": "@jupyter-widgets/controls",
          "model_name": "FloatProgressModel",
          "state": {
            "_view_name": "ProgressView",
            "style": "IPY_MODEL_553bf38a666c4bb8a1c1c97331d24c77",
            "_dom_classes": [],
            "description": "",
            "_model_name": "FloatProgressModel",
            "bar_style": "",
            "max": 1,
            "_view_module": "@jupyter-widgets/controls",
            "_model_module_version": "1.5.0",
            "value": 1,
            "_view_count": null,
            "_view_module_version": "1.5.0",
            "orientation": "horizontal",
            "min": 0,
            "description_tooltip": null,
            "_model_module": "@jupyter-widgets/controls",
            "layout": "IPY_MODEL_d991cff75e8a4bf1a6f8e464fa1c9ab5"
          }
        },
        "7c412f94739e4e45a2a6bd08fb86729b": {
          "model_module": "@jupyter-widgets/controls",
          "model_name": "DescriptionStyleModel",
          "state": {
            "_view_name": "StyleView",
            "_model_name": "DescriptionStyleModel",
            "description_width": "",
            "_view_module": "@jupyter-widgets/base",
            "_model_module_version": "1.5.0",
            "_view_count": null,
            "_view_module_version": "1.2.0",
            "_model_module": "@jupyter-widgets/controls"
          }
        },
        "a576e8d2751b4b56b92f4108f60e2fcc": {
          "model_module": "@jupyter-widgets/base",
          "model_name": "LayoutModel",
          "state": {
            "_view_name": "LayoutView",
            "grid_template_rows": null,
            "right": null,
            "justify_content": null,
            "_view_module": "@jupyter-widgets/base",
            "overflow": null,
            "_model_module_version": "1.2.0",
            "_view_count": null,
            "flex_flow": null,
            "width": null,
            "min_width": null,
            "border": null,
            "align_items": null,
            "bottom": null,
            "_model_module": "@jupyter-widgets/base",
            "top": null,
            "grid_column": null,
            "overflow_y": null,
            "overflow_x": null,
            "grid_auto_flow": null,
            "grid_area": null,
            "grid_template_columns": null,
            "flex": null,
            "_model_name": "LayoutModel",
            "justify_items": null,
            "grid_row": null,
            "max_height": null,
            "align_content": null,
            "visibility": null,
            "align_self": null,
            "height": null,
            "min_height": null,
            "padding": null,
            "grid_auto_rows": null,
            "grid_gap": null,
            "max_width": null,
            "order": null,
            "_view_module_version": "1.2.0",
            "grid_template_areas": null,
            "object_position": null,
            "object_fit": null,
            "grid_auto_columns": null,
            "margin": null,
            "display": null,
            "left": null
          }
        },
        "553bf38a666c4bb8a1c1c97331d24c77": {
          "model_module": "@jupyter-widgets/controls",
          "model_name": "ProgressStyleModel",
          "state": {
            "_view_name": "StyleView",
            "_model_name": "ProgressStyleModel",
            "description_width": "",
            "_view_module": "@jupyter-widgets/base",
            "_model_module_version": "1.5.0",
            "_view_count": null,
            "_view_module_version": "1.2.0",
            "bar_color": null,
            "_model_module": "@jupyter-widgets/controls"
          }
        },
        "d991cff75e8a4bf1a6f8e464fa1c9ab5": {
          "model_module": "@jupyter-widgets/base",
          "model_name": "LayoutModel",
          "state": {
            "_view_name": "LayoutView",
            "grid_template_rows": null,
            "right": null,
            "justify_content": null,
            "_view_module": "@jupyter-widgets/base",
            "overflow": null,
            "_model_module_version": "1.2.0",
            "_view_count": null,
            "flex_flow": null,
            "width": null,
            "min_width": null,
            "border": null,
            "align_items": null,
            "bottom": null,
            "_model_module": "@jupyter-widgets/base",
            "top": null,
            "grid_column": null,
            "overflow_y": null,
            "overflow_x": null,
            "grid_auto_flow": null,
            "grid_area": null,
            "grid_template_columns": null,
            "flex": null,
            "_model_name": "LayoutModel",
            "justify_items": null,
            "grid_row": null,
            "max_height": null,
            "align_content": null,
            "visibility": null,
            "align_self": null,
            "height": null,
            "min_height": null,
            "padding": null,
            "grid_auto_rows": null,
            "grid_gap": null,
            "max_width": null,
            "order": null,
            "_view_module_version": "1.2.0",
            "grid_template_areas": null,
            "object_position": null,
            "object_fit": null,
            "grid_auto_columns": null,
            "margin": null,
            "display": null,
            "left": null
          }
        },
        "0d8bf3bdd840433da182b76b99864ba6": {
          "model_module": "@jupyter-widgets/controls",
          "model_name": "VBoxModel",
          "state": {
            "_view_name": "VBoxView",
            "_dom_classes": [],
            "_model_name": "VBoxModel",
            "_view_module": "@jupyter-widgets/controls",
            "_model_module_version": "1.5.0",
            "_view_count": null,
            "_view_module_version": "1.5.0",
            "box_style": "",
            "layout": "IPY_MODEL_ea9bfa39030a407a99aaf38c8743b9eb",
            "_model_module": "@jupyter-widgets/controls",
            "children": [
              "IPY_MODEL_9c9ec2e71d5d416192c9dbe98a68d3b2",
              "IPY_MODEL_56cec6a3822a48edb08c77a708fd0d5a"
            ]
          }
        },
        "ea9bfa39030a407a99aaf38c8743b9eb": {
          "model_module": "@jupyter-widgets/base",
          "model_name": "LayoutModel",
          "state": {
            "_view_name": "LayoutView",
            "grid_template_rows": null,
            "right": null,
            "justify_content": null,
            "_view_module": "@jupyter-widgets/base",
            "overflow": null,
            "_model_module_version": "1.2.0",
            "_view_count": null,
            "flex_flow": null,
            "width": null,
            "min_width": null,
            "border": null,
            "align_items": null,
            "bottom": null,
            "_model_module": "@jupyter-widgets/base",
            "top": null,
            "grid_column": null,
            "overflow_y": null,
            "overflow_x": null,
            "grid_auto_flow": null,
            "grid_area": null,
            "grid_template_columns": null,
            "flex": null,
            "_model_name": "LayoutModel",
            "justify_items": null,
            "grid_row": null,
            "max_height": null,
            "align_content": null,
            "visibility": null,
            "align_self": null,
            "height": null,
            "min_height": null,
            "padding": null,
            "grid_auto_rows": null,
            "grid_gap": null,
            "max_width": null,
            "order": null,
            "_view_module_version": "1.2.0",
            "grid_template_areas": null,
            "object_position": null,
            "object_fit": null,
            "grid_auto_columns": null,
            "margin": null,
            "display": null,
            "left": null
          }
        },
        "9c9ec2e71d5d416192c9dbe98a68d3b2": {
          "model_module": "@jupyter-widgets/controls",
          "model_name": "LabelModel",
          "state": {
            "_view_name": "LabelView",
            "style": "IPY_MODEL_bdc8cec97f0644d8b88bc53f122491f4",
            "_dom_classes": [],
            "description": "",
            "_model_name": "LabelModel",
            "placeholder": "​",
            "_view_module": "@jupyter-widgets/controls",
            "_model_module_version": "1.5.0",
            "value": " 0.01MB of 0.01MB uploaded (0.00MB deduped)\r",
            "_view_count": null,
            "_view_module_version": "1.5.0",
            "description_tooltip": null,
            "_model_module": "@jupyter-widgets/controls",
            "layout": "IPY_MODEL_9dc20125d0134bb09854b3755fad6ad0"
          }
        },
        "56cec6a3822a48edb08c77a708fd0d5a": {
          "model_module": "@jupyter-widgets/controls",
          "model_name": "FloatProgressModel",
          "state": {
            "_view_name": "ProgressView",
            "style": "IPY_MODEL_208b29d8b79c4b4381f936f3dc6a9ab0",
            "_dom_classes": [],
            "description": "",
            "_model_name": "FloatProgressModel",
            "bar_style": "",
            "max": 1,
            "_view_module": "@jupyter-widgets/controls",
            "_model_module_version": "1.5.0",
            "value": 1,
            "_view_count": null,
            "_view_module_version": "1.5.0",
            "orientation": "horizontal",
            "min": 0,
            "description_tooltip": null,
            "_model_module": "@jupyter-widgets/controls",
            "layout": "IPY_MODEL_e1f66765110c4dc69480e66a352d6765"
          }
        },
        "bdc8cec97f0644d8b88bc53f122491f4": {
          "model_module": "@jupyter-widgets/controls",
          "model_name": "DescriptionStyleModel",
          "state": {
            "_view_name": "StyleView",
            "_model_name": "DescriptionStyleModel",
            "description_width": "",
            "_view_module": "@jupyter-widgets/base",
            "_model_module_version": "1.5.0",
            "_view_count": null,
            "_view_module_version": "1.2.0",
            "_model_module": "@jupyter-widgets/controls"
          }
        },
        "9dc20125d0134bb09854b3755fad6ad0": {
          "model_module": "@jupyter-widgets/base",
          "model_name": "LayoutModel",
          "state": {
            "_view_name": "LayoutView",
            "grid_template_rows": null,
            "right": null,
            "justify_content": null,
            "_view_module": "@jupyter-widgets/base",
            "overflow": null,
            "_model_module_version": "1.2.0",
            "_view_count": null,
            "flex_flow": null,
            "width": null,
            "min_width": null,
            "border": null,
            "align_items": null,
            "bottom": null,
            "_model_module": "@jupyter-widgets/base",
            "top": null,
            "grid_column": null,
            "overflow_y": null,
            "overflow_x": null,
            "grid_auto_flow": null,
            "grid_area": null,
            "grid_template_columns": null,
            "flex": null,
            "_model_name": "LayoutModel",
            "justify_items": null,
            "grid_row": null,
            "max_height": null,
            "align_content": null,
            "visibility": null,
            "align_self": null,
            "height": null,
            "min_height": null,
            "padding": null,
            "grid_auto_rows": null,
            "grid_gap": null,
            "max_width": null,
            "order": null,
            "_view_module_version": "1.2.0",
            "grid_template_areas": null,
            "object_position": null,
            "object_fit": null,
            "grid_auto_columns": null,
            "margin": null,
            "display": null,
            "left": null
          }
        },
        "208b29d8b79c4b4381f936f3dc6a9ab0": {
          "model_module": "@jupyter-widgets/controls",
          "model_name": "ProgressStyleModel",
          "state": {
            "_view_name": "StyleView",
            "_model_name": "ProgressStyleModel",
            "description_width": "",
            "_view_module": "@jupyter-widgets/base",
            "_model_module_version": "1.5.0",
            "_view_count": null,
            "_view_module_version": "1.2.0",
            "bar_color": null,
            "_model_module": "@jupyter-widgets/controls"
          }
        },
        "e1f66765110c4dc69480e66a352d6765": {
          "model_module": "@jupyter-widgets/base",
          "model_name": "LayoutModel",
          "state": {
            "_view_name": "LayoutView",
            "grid_template_rows": null,
            "right": null,
            "justify_content": null,
            "_view_module": "@jupyter-widgets/base",
            "overflow": null,
            "_model_module_version": "1.2.0",
            "_view_count": null,
            "flex_flow": null,
            "width": null,
            "min_width": null,
            "border": null,
            "align_items": null,
            "bottom": null,
            "_model_module": "@jupyter-widgets/base",
            "top": null,
            "grid_column": null,
            "overflow_y": null,
            "overflow_x": null,
            "grid_auto_flow": null,
            "grid_area": null,
            "grid_template_columns": null,
            "flex": null,
            "_model_name": "LayoutModel",
            "justify_items": null,
            "grid_row": null,
            "max_height": null,
            "align_content": null,
            "visibility": null,
            "align_self": null,
            "height": null,
            "min_height": null,
            "padding": null,
            "grid_auto_rows": null,
            "grid_gap": null,
            "max_width": null,
            "order": null,
            "_view_module_version": "1.2.0",
            "grid_template_areas": null,
            "object_position": null,
            "object_fit": null,
            "grid_auto_columns": null,
            "margin": null,
            "display": null,
            "left": null
          }
        },
        "e612ac0410d14832becb61e08611deb7": {
          "model_module": "@jupyter-widgets/controls",
          "model_name": "VBoxModel",
          "state": {
            "_view_name": "VBoxView",
            "_dom_classes": [],
            "_model_name": "VBoxModel",
            "_view_module": "@jupyter-widgets/controls",
            "_model_module_version": "1.5.0",
            "_view_count": null,
            "_view_module_version": "1.5.0",
            "box_style": "",
            "layout": "IPY_MODEL_0692d2c7c311423babc3308f00407362",
            "_model_module": "@jupyter-widgets/controls",
            "children": [
              "IPY_MODEL_37b68d7c807b483597de448834988735",
              "IPY_MODEL_f46c57fd67cb4bc6bccf904359f2c605"
            ]
          }
        },
        "0692d2c7c311423babc3308f00407362": {
          "model_module": "@jupyter-widgets/base",
          "model_name": "LayoutModel",
          "state": {
            "_view_name": "LayoutView",
            "grid_template_rows": null,
            "right": null,
            "justify_content": null,
            "_view_module": "@jupyter-widgets/base",
            "overflow": null,
            "_model_module_version": "1.2.0",
            "_view_count": null,
            "flex_flow": null,
            "width": null,
            "min_width": null,
            "border": null,
            "align_items": null,
            "bottom": null,
            "_model_module": "@jupyter-widgets/base",
            "top": null,
            "grid_column": null,
            "overflow_y": null,
            "overflow_x": null,
            "grid_auto_flow": null,
            "grid_area": null,
            "grid_template_columns": null,
            "flex": null,
            "_model_name": "LayoutModel",
            "justify_items": null,
            "grid_row": null,
            "max_height": null,
            "align_content": null,
            "visibility": null,
            "align_self": null,
            "height": null,
            "min_height": null,
            "padding": null,
            "grid_auto_rows": null,
            "grid_gap": null,
            "max_width": null,
            "order": null,
            "_view_module_version": "1.2.0",
            "grid_template_areas": null,
            "object_position": null,
            "object_fit": null,
            "grid_auto_columns": null,
            "margin": null,
            "display": null,
            "left": null
          }
        },
        "37b68d7c807b483597de448834988735": {
          "model_module": "@jupyter-widgets/controls",
          "model_name": "LabelModel",
          "state": {
            "_view_name": "LabelView",
            "style": "IPY_MODEL_39ba36468b954b90b00103525778ebfa",
            "_dom_classes": [],
            "description": "",
            "_model_name": "LabelModel",
            "placeholder": "​",
            "_view_module": "@jupyter-widgets/controls",
            "_model_module_version": "1.5.0",
            "value": " 0.01MB of 0.01MB uploaded (0.00MB deduped)\r",
            "_view_count": null,
            "_view_module_version": "1.5.0",
            "description_tooltip": null,
            "_model_module": "@jupyter-widgets/controls",
            "layout": "IPY_MODEL_1ac6fd3bfff3485abd104f19ecd24b33"
          }
        },
        "f46c57fd67cb4bc6bccf904359f2c605": {
          "model_module": "@jupyter-widgets/controls",
          "model_name": "FloatProgressModel",
          "state": {
            "_view_name": "ProgressView",
            "style": "IPY_MODEL_1e4a38fa77924d84805e768abec73b45",
            "_dom_classes": [],
            "description": "",
            "_model_name": "FloatProgressModel",
            "bar_style": "",
            "max": 1,
            "_view_module": "@jupyter-widgets/controls",
            "_model_module_version": "1.5.0",
            "value": 1,
            "_view_count": null,
            "_view_module_version": "1.5.0",
            "orientation": "horizontal",
            "min": 0,
            "description_tooltip": null,
            "_model_module": "@jupyter-widgets/controls",
            "layout": "IPY_MODEL_84c99d6380c24054b82b0d07500d8088"
          }
        },
        "39ba36468b954b90b00103525778ebfa": {
          "model_module": "@jupyter-widgets/controls",
          "model_name": "DescriptionStyleModel",
          "state": {
            "_view_name": "StyleView",
            "_model_name": "DescriptionStyleModel",
            "description_width": "",
            "_view_module": "@jupyter-widgets/base",
            "_model_module_version": "1.5.0",
            "_view_count": null,
            "_view_module_version": "1.2.0",
            "_model_module": "@jupyter-widgets/controls"
          }
        },
        "1ac6fd3bfff3485abd104f19ecd24b33": {
          "model_module": "@jupyter-widgets/base",
          "model_name": "LayoutModel",
          "state": {
            "_view_name": "LayoutView",
            "grid_template_rows": null,
            "right": null,
            "justify_content": null,
            "_view_module": "@jupyter-widgets/base",
            "overflow": null,
            "_model_module_version": "1.2.0",
            "_view_count": null,
            "flex_flow": null,
            "width": null,
            "min_width": null,
            "border": null,
            "align_items": null,
            "bottom": null,
            "_model_module": "@jupyter-widgets/base",
            "top": null,
            "grid_column": null,
            "overflow_y": null,
            "overflow_x": null,
            "grid_auto_flow": null,
            "grid_area": null,
            "grid_template_columns": null,
            "flex": null,
            "_model_name": "LayoutModel",
            "justify_items": null,
            "grid_row": null,
            "max_height": null,
            "align_content": null,
            "visibility": null,
            "align_self": null,
            "height": null,
            "min_height": null,
            "padding": null,
            "grid_auto_rows": null,
            "grid_gap": null,
            "max_width": null,
            "order": null,
            "_view_module_version": "1.2.0",
            "grid_template_areas": null,
            "object_position": null,
            "object_fit": null,
            "grid_auto_columns": null,
            "margin": null,
            "display": null,
            "left": null
          }
        },
        "1e4a38fa77924d84805e768abec73b45": {
          "model_module": "@jupyter-widgets/controls",
          "model_name": "ProgressStyleModel",
          "state": {
            "_view_name": "StyleView",
            "_model_name": "ProgressStyleModel",
            "description_width": "",
            "_view_module": "@jupyter-widgets/base",
            "_model_module_version": "1.5.0",
            "_view_count": null,
            "_view_module_version": "1.2.0",
            "bar_color": null,
            "_model_module": "@jupyter-widgets/controls"
          }
        },
        "84c99d6380c24054b82b0d07500d8088": {
          "model_module": "@jupyter-widgets/base",
          "model_name": "LayoutModel",
          "state": {
            "_view_name": "LayoutView",
            "grid_template_rows": null,
            "right": null,
            "justify_content": null,
            "_view_module": "@jupyter-widgets/base",
            "overflow": null,
            "_model_module_version": "1.2.0",
            "_view_count": null,
            "flex_flow": null,
            "width": null,
            "min_width": null,
            "border": null,
            "align_items": null,
            "bottom": null,
            "_model_module": "@jupyter-widgets/base",
            "top": null,
            "grid_column": null,
            "overflow_y": null,
            "overflow_x": null,
            "grid_auto_flow": null,
            "grid_area": null,
            "grid_template_columns": null,
            "flex": null,
            "_model_name": "LayoutModel",
            "justify_items": null,
            "grid_row": null,
            "max_height": null,
            "align_content": null,
            "visibility": null,
            "align_self": null,
            "height": null,
            "min_height": null,
            "padding": null,
            "grid_auto_rows": null,
            "grid_gap": null,
            "max_width": null,
            "order": null,
            "_view_module_version": "1.2.0",
            "grid_template_areas": null,
            "object_position": null,
            "object_fit": null,
            "grid_auto_columns": null,
            "margin": null,
            "display": null,
            "left": null
          }
        }
      }
    }
  },
  "cells": [
    {
      "cell_type": "markdown",
      "metadata": {
        "id": "view-in-github",
        "colab_type": "text"
      },
      "source": [
        "<a href=\"https://colab.research.google.com/github/Deep-Learning-Qatar/EEG-Vision/blob/master/Pipeline_new.ipynb\" target=\"_parent\"><img src=\"https://colab.research.google.com/assets/colab-badge.svg\" alt=\"Open In Colab\"/></a>"
      ]
    },
    {
      "cell_type": "markdown",
      "metadata": {
        "id": "scx-gSmjVLzI"
      },
      "source": [
        "**Pipeline**: This is a general set-up to evaluate our entire EEG-Vision predictive system using the thre individual models that are imported to maximize modularity."
      ]
    },
    {
      "cell_type": "code",
      "metadata": {
        "colab": {
          "base_uri": "https://localhost:8080/"
        },
        "id": "ifwnKzPRVw5u",
        "outputId": "f37d7e0c-614d-4a5b-e1ec-f9c6baa453ea"
      },
      "source": [
        "# mount gdrive\n",
        "from google.colab import drive\n",
        "drive.mount('/gdrive')"
      ],
      "execution_count": 1,
      "outputs": [
        {
          "output_type": "stream",
          "text": [
            "Drive already mounted at /gdrive; to attempt to forcibly remount, call drive.mount(\"/gdrive\", force_remount=True).\n"
          ],
          "name": "stdout"
        }
      ]
    },
    {
      "cell_type": "markdown",
      "metadata": {
        "id": "npwvO3l5Vm6B"
      },
      "source": [
        "# Imports"
      ]
    },
    {
      "cell_type": "code",
      "metadata": {
        "id": "LR4pEnTZV9ct"
      },
      "source": [
        "# import libraries\n",
        "import numpy as np\n",
        "import pandas as pd\n",
        "\n",
        "import torch\n",
        "import torch.nn as nn\n",
        "import torch.nn.functional as F\n",
        "import torch.optim as optim\n",
        "from torch.utils import data\n",
        "\n",
        "import matplotlib.pyplot as plt\n",
        "import random"
      ],
      "execution_count": 1,
      "outputs": []
    },
    {
      "cell_type": "code",
      "metadata": {
        "colab": {
          "base_uri": "https://localhost:8080/"
        },
        "id": "oOx67bxlhhUi",
        "outputId": "c954937b-419c-4eb3-f442-64743caf7e10"
      },
      "source": [
        "# install and import wandb\n",
        "!pip install wandb --upgrade\n",
        "import wandb\n",
        "wandb.login()"
      ],
      "execution_count": 2,
      "outputs": [
        {
          "output_type": "stream",
          "text": [
            "Requirement already up-to-date: wandb in /usr/local/lib/python3.7/dist-packages (0.10.29)\n",
            "Requirement already satisfied, skipping upgrade: sentry-sdk>=0.4.0 in /usr/local/lib/python3.7/dist-packages (from wandb) (1.0.0)\n",
            "Requirement already satisfied, skipping upgrade: shortuuid>=0.5.0 in /usr/local/lib/python3.7/dist-packages (from wandb) (1.0.1)\n",
            "Requirement already satisfied, skipping upgrade: pathtools in /usr/local/lib/python3.7/dist-packages (from wandb) (0.1.2)\n",
            "Requirement already satisfied, skipping upgrade: docker-pycreds>=0.4.0 in /usr/local/lib/python3.7/dist-packages (from wandb) (0.4.0)\n",
            "Requirement already satisfied, skipping upgrade: Click>=7.0 in /usr/local/lib/python3.7/dist-packages (from wandb) (7.1.2)\n",
            "Requirement already satisfied, skipping upgrade: psutil>=5.0.0 in /usr/local/lib/python3.7/dist-packages (from wandb) (5.4.8)\n",
            "Requirement already satisfied, skipping upgrade: python-dateutil>=2.6.1 in /usr/local/lib/python3.7/dist-packages (from wandb) (2.8.1)\n",
            "Requirement already satisfied, skipping upgrade: protobuf>=3.12.0 in /usr/local/lib/python3.7/dist-packages (from wandb) (3.12.4)\n",
            "Requirement already satisfied, skipping upgrade: subprocess32>=3.5.3 in /usr/local/lib/python3.7/dist-packages (from wandb) (3.5.4)\n",
            "Requirement already satisfied, skipping upgrade: six>=1.13.0 in /usr/local/lib/python3.7/dist-packages (from wandb) (1.15.0)\n",
            "Requirement already satisfied, skipping upgrade: GitPython>=1.0.0 in /usr/local/lib/python3.7/dist-packages (from wandb) (3.1.14)\n",
            "Requirement already satisfied, skipping upgrade: configparser>=3.8.1 in /usr/local/lib/python3.7/dist-packages (from wandb) (5.0.2)\n",
            "Requirement already satisfied, skipping upgrade: promise<3,>=2.0 in /usr/local/lib/python3.7/dist-packages (from wandb) (2.3)\n",
            "Requirement already satisfied, skipping upgrade: requests<3,>=2.0.0 in /usr/local/lib/python3.7/dist-packages (from wandb) (2.23.0)\n",
            "Requirement already satisfied, skipping upgrade: PyYAML in /usr/local/lib/python3.7/dist-packages (from wandb) (3.13)\n",
            "Requirement already satisfied, skipping upgrade: certifi in /usr/local/lib/python3.7/dist-packages (from sentry-sdk>=0.4.0->wandb) (2020.12.5)\n",
            "Requirement already satisfied, skipping upgrade: urllib3>=1.10.0 in /usr/local/lib/python3.7/dist-packages (from sentry-sdk>=0.4.0->wandb) (1.24.3)\n",
            "Requirement already satisfied, skipping upgrade: setuptools in /usr/local/lib/python3.7/dist-packages (from protobuf>=3.12.0->wandb) (56.0.0)\n",
            "Requirement already satisfied, skipping upgrade: gitdb<5,>=4.0.1 in /usr/local/lib/python3.7/dist-packages (from GitPython>=1.0.0->wandb) (4.0.7)\n",
            "Requirement already satisfied, skipping upgrade: idna<3,>=2.5 in /usr/local/lib/python3.7/dist-packages (from requests<3,>=2.0.0->wandb) (2.10)\n",
            "Requirement already satisfied, skipping upgrade: chardet<4,>=3.0.2 in /usr/local/lib/python3.7/dist-packages (from requests<3,>=2.0.0->wandb) (3.0.4)\n",
            "Requirement already satisfied, skipping upgrade: smmap<5,>=3.0.1 in /usr/local/lib/python3.7/dist-packages (from gitdb<5,>=4.0.1->GitPython>=1.0.0->wandb) (4.0.0)\n"
          ],
          "name": "stdout"
        },
        {
          "output_type": "stream",
          "text": [
            "\u001b[34m\u001b[1mwandb\u001b[0m: Currently logged in as: \u001b[33msbaumann\u001b[0m (use `wandb login --relogin` to force relogin)\n"
          ],
          "name": "stderr"
        },
        {
          "output_type": "execute_result",
          "data": {
            "text/plain": [
              "True"
            ]
          },
          "metadata": {
            "tags": []
          },
          "execution_count": 2
        }
      ]
    },
    {
      "cell_type": "code",
      "metadata": {
        "colab": {
          "base_uri": "https://localhost:8080/"
        },
        "id": "OCFyPiCok_P7",
        "outputId": "b49734dd-ebad-4d7c-c607-193dc5b1aa6e"
      },
      "source": [
        "%cd /gdrive/MyDrive/11-785 Deep Learning/Project\n",
        "\n",
        "# path to data\n",
        "EEG_dataset_path = '/gdrive/MyDrive/11-785 Deep Learning/Project/EEG_datasets.pth'\n",
        "EEG_out_dataset_path = '/gdrive/MyDrive/11-785 Deep Learning/Project/EEG_out_test_datasets_'\n",
        "pth = '.pth'\n",
        "Image_dataset_path = '/gdrive/MyDrive/11-785 Deep Learning/Project/data_by_image.pth'\n",
        "\n",
        "from eeg_net import make_EEG_Net, train_and_val_EEG_Net, test_EEG_Net\n",
        "from image_net import make_Image_Net, train_and_val_Image_Net, test_Image_Net, make_EEG_to_Image_data_loaders, get_class_labels\n",
        "from eeg_image_map import make_EEG_Image_Map, train_and_val_EEG_Image_Map, test_EEG_Image_Map, calc_map_metrics"
      ],
      "execution_count": 3,
      "outputs": [
        {
          "output_type": "stream",
          "text": [
            "/gdrive/MyDrive/11-785 Deep Learning/Project\n"
          ],
          "name": "stdout"
        }
      ]
    },
    {
      "cell_type": "markdown",
      "metadata": {
        "id": "LEUQ5yv_lbPz"
      },
      "source": [
        "# Pipeline EEG-Net"
      ]
    },
    {
      "cell_type": "code",
      "metadata": {
        "id": "4eLlAw6Clgwd"
      },
      "source": [
        "def model_pipeline_EEG_Net(hyperparameters):\n",
        "    %cd /gdrive/MyDrive/11-785 Deep Learning/Project\n",
        "\n",
        "    with wandb.init(project='EEG-Net', entity='eegvision', config=hyperparameters):\n",
        "      config = wandb.config\n",
        "\n",
        "      if config.num_classes == 40: EEG_path = EEG_dataset_path\n",
        "      else: EEG_path = EEG_out_dataset_path + str(40-config.num_classes) + pth\n",
        "\n",
        "      model, EEG_data_loaders, criterion, optimizer, scheduler = make_EEG_Net(config, EEG_path)\n",
        "\n",
        "      %cd EEG-Net\n",
        "      model, val_acc_hist = train_and_val_EEG_Net(wandb, config, model, EEG_data_loaders, criterion, optimizer, scheduler, num_epochs=config.num_epochs)\n",
        "\n",
        "    return model, EEG_data_loaders, val_acc_hist"
      ],
      "execution_count": 5,
      "outputs": []
    },
    {
      "cell_type": "code",
      "metadata": {
        "colab": {
          "base_uri": "https://localhost:8080/",
          "height": 1000,
          "referenced_widgets": [
            "20e744cf8d9a4257bf88c7adca3c0c20",
            "674efb7dcf8343e38e828e82d30f735d",
            "b3f12ddcc83a45789d2056d92325b5cb",
            "c271c8126cc14790857003cf7ff2e60f",
            "7c412f94739e4e45a2a6bd08fb86729b",
            "a576e8d2751b4b56b92f4108f60e2fcc",
            "553bf38a666c4bb8a1c1c97331d24c77",
            "d991cff75e8a4bf1a6f8e464fa1c9ab5"
          ]
        },
        "id": "tJ-_CZpga1yp",
        "outputId": "3caa8399-a06f-45a0-b0d5-fc33cccf39f7"
      },
      "source": [
        "EEG_hyperparams = dict(\n",
        "    model_nr = 13,\n",
        "\n",
        "    # Models to choose from [fares]\n",
        "    model = \"fares\",\n",
        "\n",
        "    # Number of classes in the dataset [40, 37, 35, 30, 20]\n",
        "    num_classes = 35,\n",
        "\n",
        "    # Number of epochs to train for\n",
        "    num_epochs = 80,\n",
        "\n",
        "    num_hidden_nodes = 256,\n",
        "\n",
        "    num_features = 128,\n",
        "\n",
        "    num_layers = 2,\n",
        "\n",
        "    lr = 0.001,\n",
        "    \n",
        "    weight_decay = 5e-6,\n",
        "\n",
        "    dropout = 0.4,\n",
        "\n",
        "    batch_size = 64,\n",
        ")\n",
        "\n",
        "EEG_Net, EEG_data_loaders, eeg_acc_hist = model_pipeline_EEG_Net(EEG_hyperparams)"
      ],
      "execution_count": 6,
      "outputs": [
        {
          "output_type": "stream",
          "text": [
            "/gdrive/MyDrive/11-785 Deep Learning/Project\n"
          ],
          "name": "stdout"
        },
        {
          "output_type": "display_data",
          "data": {
            "text/html": [
              "\n",
              "                Tracking run with wandb version 0.10.29<br/>\n",
              "                Syncing run <strong style=\"color:#cdcd00\">olive-yogurt-65</strong> to <a href=\"https://wandb.ai\" target=\"_blank\">Weights & Biases</a> <a href=\"https://docs.wandb.com/integrations/jupyter.html\" target=\"_blank\">(Documentation)</a>.<br/>\n",
              "                Project page: <a href=\"https://wandb.ai/eegvision/EEG-Net\" target=\"_blank\">https://wandb.ai/eegvision/EEG-Net</a><br/>\n",
              "                Run page: <a href=\"https://wandb.ai/eegvision/EEG-Net/runs/3qpvfwpz\" target=\"_blank\">https://wandb.ai/eegvision/EEG-Net/runs/3qpvfwpz</a><br/>\n",
              "                Run data is saved locally in <code>/gdrive/MyDrive/11-785 Deep Learning/Project/wandb/run-20210506_233827-3qpvfwpz</code><br/><br/>\n",
              "            "
            ],
            "text/plain": [
              "<IPython.core.display.HTML object>"
            ]
          },
          "metadata": {
            "tags": []
          }
        },
        {
          "output_type": "stream",
          "text": [
            "/gdrive/MyDrive/11-785 Deep Learning/Project/EEG-Net\n",
            "Epoch 2/80\n",
            "----------\n",
            "[train] Loss: 3.1475 Acc: 0.0828\n",
            "[val] Loss: 3.3086 Acc: 0.0805\n",
            "Epoch 10/80\n",
            "----------\n",
            "[train] Loss: 2.3615 Acc: 0.2131\n",
            "[val] Loss: 2.3898 Acc: 0.1906\n",
            "Epoch 18/80\n",
            "----------\n",
            "[train] Loss: 1.7737 Acc: 0.3729\n",
            "[val] Loss: 1.8750 Acc: 0.3065\n",
            "Epoch 26/80\n",
            "----------\n",
            "[train] Loss: 1.2290 Acc: 0.5301\n",
            "[val] Loss: 1.5304 Acc: 0.3937\n",
            "Epoch    32: reducing learning rate of group 0 to 5.0000e-04.\n",
            "Epoch 34/80\n",
            "----------\n",
            "[train] Loss: 0.7560 Acc: 0.7123\n",
            "[val] Loss: 1.9313 Acc: 0.4339\n",
            "Epoch    39: reducing learning rate of group 0 to 2.5000e-04.\n",
            "Epoch 42/80\n",
            "----------\n",
            "[train] Loss: 0.4473 Acc: 0.8338\n",
            "[val] Loss: 1.5996 Acc: 0.4943\n",
            "Epoch    45: reducing learning rate of group 0 to 1.2500e-04.\n",
            "Epoch 50/80\n",
            "----------\n",
            "[train] Loss: 0.2726 Acc: 0.9037\n",
            "[val] Loss: 1.7945 Acc: 0.5220\n",
            "Epoch    51: reducing learning rate of group 0 to 6.2500e-05.\n",
            "Epoch    57: reducing learning rate of group 0 to 3.1250e-05.\n",
            "Epoch 58/80\n",
            "----------\n",
            "[train] Loss: 0.1981 Acc: 0.9364\n",
            "[val] Loss: 1.8175 Acc: 0.5278\n",
            "Epoch    63: reducing learning rate of group 0 to 1.5625e-05.\n",
            "Epoch 66/80\n",
            "----------\n",
            "[train] Loss: 0.1713 Acc: 0.9490\n",
            "[val] Loss: 1.8903 Acc: 0.5239\n",
            "Epoch    69: reducing learning rate of group 0 to 7.8125e-06.\n",
            "Epoch 74/80\n",
            "----------\n",
            "[train] Loss: 0.1635 Acc: 0.9512\n",
            "[val] Loss: 1.8714 Acc: 0.5268\n",
            "Epoch    75: reducing learning rate of group 0 to 3.9063e-06.\n",
            "Training complete in 48m 34s\n",
            "Best val Acc: 0.527778\n"
          ],
          "name": "stdout"
        },
        {
          "output_type": "display_data",
          "data": {
            "text/html": [
              "<br/>Waiting for W&B process to finish, PID 117260<br/>Program ended successfully."
            ],
            "text/plain": [
              "<IPython.core.display.HTML object>"
            ]
          },
          "metadata": {
            "tags": []
          }
        },
        {
          "output_type": "display_data",
          "data": {
            "application/vnd.jupyter.widget-view+json": {
              "model_id": "20e744cf8d9a4257bf88c7adca3c0c20",
              "version_minor": 0,
              "version_major": 2
            },
            "text/plain": [
              "VBox(children=(Label(value=' 0.00MB of 0.00MB uploaded (0.00MB deduped)\\r'), FloatProgress(value=1.0, max=1.0)…"
            ]
          },
          "metadata": {
            "tags": []
          }
        },
        {
          "output_type": "display_data",
          "data": {
            "text/html": [
              "Find user logs for this run at: <code>/gdrive/MyDrive/11-785 Deep Learning/Project/wandb/run-20210506_233827-3qpvfwpz/logs/debug.log</code>"
            ],
            "text/plain": [
              "<IPython.core.display.HTML object>"
            ]
          },
          "metadata": {
            "tags": []
          }
        },
        {
          "output_type": "display_data",
          "data": {
            "text/html": [
              "Find internal logs for this run at: <code>/gdrive/MyDrive/11-785 Deep Learning/Project/wandb/run-20210506_233827-3qpvfwpz/logs/debug-internal.log</code>"
            ],
            "text/plain": [
              "<IPython.core.display.HTML object>"
            ]
          },
          "metadata": {
            "tags": []
          }
        },
        {
          "output_type": "display_data",
          "data": {
            "text/html": [
              "<h3>Run summary:</h3><br/><style>\n",
              "    table.wandb td:nth-child(1) { padding: 0 10px; text-align: right }\n",
              "    </style><table class=\"wandb\">\n",
              "<tr><td>epoch</td><td>79</td></tr><tr><td>train_loss</td><td>0.16386</td></tr><tr><td>train_acc</td><td>0.94799</td></tr><tr><td>_runtime</td><td>2994</td></tr><tr><td>_timestamp</td><td>1620347301</td></tr><tr><td>_step</td><td>159</td></tr><tr><td>val_loss</td><td>1.87555</td></tr><tr><td>val_acc</td><td>0.52682</td></tr></table>"
            ],
            "text/plain": [
              "<IPython.core.display.HTML object>"
            ]
          },
          "metadata": {
            "tags": []
          }
        },
        {
          "output_type": "display_data",
          "data": {
            "text/html": [
              "<h3>Run history:</h3><br/><style>\n",
              "    table.wandb td:nth-child(1) { padding: 0 10px; text-align: right }\n",
              "    </style><table class=\"wandb\">\n",
              "<tr><td>epoch</td><td>▁▁▁▂▂▂▂▂▂▃▃▃▃▃▃▄▄▄▄▄▅▅▅▅▅▅▆▆▆▆▆▆▇▇▇▇▇███</td></tr><tr><td>train_loss</td><td>█▇▆▆▆▅▅▅▄▄▄▄▃▃▃▃▂▂▂▂▂▂▁▁▁▁▁▁▁▁▁▁▁▁▁▁▁▁▁▁</td></tr><tr><td>train_acc</td><td>▁▂▂▂▂▂▃▃▃▄▄▄▄▅▅▅▆▆▆▇▇▇▇█████████████████</td></tr><tr><td>_runtime</td><td>▁▁▁▂▂▂▂▂▂▃▃▃▃▃▃▄▄▄▄▄▅▅▅▅▅▅▆▆▆▆▆▆▇▇▇▇▇███</td></tr><tr><td>_timestamp</td><td>▁▁▁▂▂▂▂▂▂▃▃▃▃▃▃▄▄▄▄▄▅▅▅▅▅▅▆▆▆▆▆▆▇▇▇▇▇███</td></tr><tr><td>_step</td><td>▁▁▁▂▂▂▂▂▂▃▃▃▃▃▃▄▄▄▄▄▅▅▅▅▅▅▆▆▆▆▆▆▇▇▇▇▇███</td></tr><tr><td>val_loss</td><td>█▆▄▄▄▅▃▂▄▂▂▁▂▁▁▂▁▁▁▁▂▂▂▂▂▂▂▂▂▂▂▂▂▂▂▂▂▂▂▂</td></tr><tr><td>val_acc</td><td>▁▂▂▃▃▃▄▅▄▅▅▆▅▆▆▆▇▇▇▇▇▇▇█████████████████</td></tr></table><br/>"
            ],
            "text/plain": [
              "<IPython.core.display.HTML object>"
            ]
          },
          "metadata": {
            "tags": []
          }
        },
        {
          "output_type": "display_data",
          "data": {
            "text/html": [
              "Synced 5 W&B file(s), 0 media file(s), 0 artifact file(s) and 0 other file(s)"
            ],
            "text/plain": [
              "<IPython.core.display.HTML object>"
            ]
          },
          "metadata": {
            "tags": []
          }
        },
        {
          "output_type": "display_data",
          "data": {
            "text/html": [
              "\n",
              "                    <br/>Synced <strong style=\"color:#cdcd00\">olive-yogurt-65</strong>: <a href=\"https://wandb.ai/eegvision/EEG-Net/runs/3qpvfwpz\" target=\"_blank\">https://wandb.ai/eegvision/EEG-Net/runs/3qpvfwpz</a><br/>\n",
              "                "
            ],
            "text/plain": [
              "<IPython.core.display.HTML object>"
            ]
          },
          "metadata": {
            "tags": []
          }
        }
      ]
    },
    {
      "cell_type": "code",
      "metadata": {
        "id": "xVkqNwqkpabx"
      },
      "source": [
        "# EEG_Net.load_state_dict(torch.load('/gdrive/MyDrive/11-785 Deep Learning/Project/EEG-Net/EEGNet12epoch66.pth'))"
      ],
      "execution_count": null,
      "outputs": []
    },
    {
      "cell_type": "markdown",
      "metadata": {
        "id": "RRv1KWh5akWX"
      },
      "source": [
        "# Pipeline Image-Net"
      ]
    },
    {
      "cell_type": "code",
      "metadata": {
        "id": "wL5F4yilaA7Q"
      },
      "source": [
        "def model_pipeline_Image_Net(hyperparameters):\n",
        "    %cd /gdrive/MyDrive/11-785 Deep Learning/Project\n",
        "\n",
        "    with wandb.init(project='Image-Net', entity='eegvision', config=hyperparameters):\n",
        "      config = wandb.config\n",
        "      \n",
        "      if EEG_hyperparams['num_classes'] == 40: EEG_path = EEG_dataset_path\n",
        "      else: EEG_path = EEG_out_dataset_path + str(40-EEG_hyperparams['num_classes']) + pth\n",
        "\n",
        "      model, Image_data_loaders, criterion, optimizer = make_Image_Net(config, EEG_path, Image_dataset_path)\n",
        "\n",
        "      %cd Image-Net\n",
        "      model, val_acc_hist = train_and_val_Image_Net(wandb, config, model, Image_data_loaders, criterion, optimizer,\n",
        "                                                    is_inception=(config.model_name==\"inception\"))\n",
        "\n",
        "    return model, Image_data_loaders, val_acc_hist"
      ],
      "execution_count": 7,
      "outputs": []
    },
    {
      "cell_type": "code",
      "metadata": {
        "id": "E1QBzQQ2bAV0",
        "colab": {
          "base_uri": "https://localhost:8080/",
          "height": 1000,
          "referenced_widgets": [
            "0d8bf3bdd840433da182b76b99864ba6",
            "ea9bfa39030a407a99aaf38c8743b9eb",
            "9c9ec2e71d5d416192c9dbe98a68d3b2",
            "56cec6a3822a48edb08c77a708fd0d5a",
            "bdc8cec97f0644d8b88bc53f122491f4",
            "9dc20125d0134bb09854b3755fad6ad0",
            "208b29d8b79c4b4381f936f3dc6a9ab0",
            "e1f66765110c4dc69480e66a352d6765"
          ]
        },
        "outputId": "441e5418-fe9e-441d-c075-2f09b0d317a9"
      },
      "source": [
        "Image_hyperparams = dict(\n",
        "    model_nr = 2,\n",
        "\n",
        "    # Models to choose from [resnet, alexnet, vgg, squeezenet, densenet, inception]\n",
        "    model_name = \"inception\",\n",
        "\n",
        "    # Number of classes in the dataset\n",
        "    num_classes = 40,\n",
        "\n",
        "    num_features = 512,\n",
        "\n",
        "    # Batch size for training (change depending on how much memory you have)\n",
        "    batch_size = 64,\n",
        "\n",
        "    # Number of epochs to train for\n",
        "    num_epochs = 0,\n",
        "\n",
        "    # Flag for feature extracting. When False, we finetune the whole model,\n",
        "    #   when True we only update the reshaped layer params\n",
        "    feature_extract = True,\n",
        "\n",
        "    lr = 0.001,\n",
        "\n",
        "    relu = True,\n",
        ")\n",
        "\n",
        "Image_Net, Image_data_loaders, image_acc_hist = model_pipeline_Image_Net(Image_hyperparams)"
      ],
      "execution_count": 8,
      "outputs": [
        {
          "output_type": "stream",
          "text": [
            "/gdrive/MyDrive/11-785 Deep Learning/Project\n"
          ],
          "name": "stdout"
        },
        {
          "output_type": "display_data",
          "data": {
            "text/html": [
              "\n",
              "                Tracking run with wandb version 0.10.29<br/>\n",
              "                Syncing run <strong style=\"color:#cdcd00\">daily-sponge-40</strong> to <a href=\"https://wandb.ai\" target=\"_blank\">Weights & Biases</a> <a href=\"https://docs.wandb.com/integrations/jupyter.html\" target=\"_blank\">(Documentation)</a>.<br/>\n",
              "                Project page: <a href=\"https://wandb.ai/eegvision/Image-Net\" target=\"_blank\">https://wandb.ai/eegvision/Image-Net</a><br/>\n",
              "                Run page: <a href=\"https://wandb.ai/eegvision/Image-Net/runs/1cyrm7ig\" target=\"_blank\">https://wandb.ai/eegvision/Image-Net/runs/1cyrm7ig</a><br/>\n",
              "                Run data is saved locally in <code>/gdrive/MyDrive/11-785 Deep Learning/Project/wandb/run-20210507_002832-1cyrm7ig</code><br/><br/>\n",
              "            "
            ],
            "text/plain": [
              "<IPython.core.display.HTML object>"
            ]
          },
          "metadata": {
            "tags": []
          }
        },
        {
          "output_type": "stream",
          "text": [
            "ImageNet(\n",
            "  (pretrained): Inception3(\n",
            "    (Conv2d_1a_3x3): BasicConv2d(\n",
            "      (conv): Conv2d(3, 32, kernel_size=(3, 3), stride=(2, 2), bias=False)\n",
            "      (bn): BatchNorm2d(32, eps=0.001, momentum=0.1, affine=True, track_running_stats=True)\n",
            "    )\n",
            "    (Conv2d_2a_3x3): BasicConv2d(\n",
            "      (conv): Conv2d(32, 32, kernel_size=(3, 3), stride=(1, 1), bias=False)\n",
            "      (bn): BatchNorm2d(32, eps=0.001, momentum=0.1, affine=True, track_running_stats=True)\n",
            "    )\n",
            "    (Conv2d_2b_3x3): BasicConv2d(\n",
            "      (conv): Conv2d(32, 64, kernel_size=(3, 3), stride=(1, 1), padding=(1, 1), bias=False)\n",
            "      (bn): BatchNorm2d(64, eps=0.001, momentum=0.1, affine=True, track_running_stats=True)\n",
            "    )\n",
            "    (maxpool1): MaxPool2d(kernel_size=3, stride=2, padding=0, dilation=1, ceil_mode=False)\n",
            "    (Conv2d_3b_1x1): BasicConv2d(\n",
            "      (conv): Conv2d(64, 80, kernel_size=(1, 1), stride=(1, 1), bias=False)\n",
            "      (bn): BatchNorm2d(80, eps=0.001, momentum=0.1, affine=True, track_running_stats=True)\n",
            "    )\n",
            "    (Conv2d_4a_3x3): BasicConv2d(\n",
            "      (conv): Conv2d(80, 192, kernel_size=(3, 3), stride=(1, 1), bias=False)\n",
            "      (bn): BatchNorm2d(192, eps=0.001, momentum=0.1, affine=True, track_running_stats=True)\n",
            "    )\n",
            "    (maxpool2): MaxPool2d(kernel_size=3, stride=2, padding=0, dilation=1, ceil_mode=False)\n",
            "    (Mixed_5b): InceptionA(\n",
            "      (branch1x1): BasicConv2d(\n",
            "        (conv): Conv2d(192, 64, kernel_size=(1, 1), stride=(1, 1), bias=False)\n",
            "        (bn): BatchNorm2d(64, eps=0.001, momentum=0.1, affine=True, track_running_stats=True)\n",
            "      )\n",
            "      (branch5x5_1): BasicConv2d(\n",
            "        (conv): Conv2d(192, 48, kernel_size=(1, 1), stride=(1, 1), bias=False)\n",
            "        (bn): BatchNorm2d(48, eps=0.001, momentum=0.1, affine=True, track_running_stats=True)\n",
            "      )\n",
            "      (branch5x5_2): BasicConv2d(\n",
            "        (conv): Conv2d(48, 64, kernel_size=(5, 5), stride=(1, 1), padding=(2, 2), bias=False)\n",
            "        (bn): BatchNorm2d(64, eps=0.001, momentum=0.1, affine=True, track_running_stats=True)\n",
            "      )\n",
            "      (branch3x3dbl_1): BasicConv2d(\n",
            "        (conv): Conv2d(192, 64, kernel_size=(1, 1), stride=(1, 1), bias=False)\n",
            "        (bn): BatchNorm2d(64, eps=0.001, momentum=0.1, affine=True, track_running_stats=True)\n",
            "      )\n",
            "      (branch3x3dbl_2): BasicConv2d(\n",
            "        (conv): Conv2d(64, 96, kernel_size=(3, 3), stride=(1, 1), padding=(1, 1), bias=False)\n",
            "        (bn): BatchNorm2d(96, eps=0.001, momentum=0.1, affine=True, track_running_stats=True)\n",
            "      )\n",
            "      (branch3x3dbl_3): BasicConv2d(\n",
            "        (conv): Conv2d(96, 96, kernel_size=(3, 3), stride=(1, 1), padding=(1, 1), bias=False)\n",
            "        (bn): BatchNorm2d(96, eps=0.001, momentum=0.1, affine=True, track_running_stats=True)\n",
            "      )\n",
            "      (branch_pool): BasicConv2d(\n",
            "        (conv): Conv2d(192, 32, kernel_size=(1, 1), stride=(1, 1), bias=False)\n",
            "        (bn): BatchNorm2d(32, eps=0.001, momentum=0.1, affine=True, track_running_stats=True)\n",
            "      )\n",
            "    )\n",
            "    (Mixed_5c): InceptionA(\n",
            "      (branch1x1): BasicConv2d(\n",
            "        (conv): Conv2d(256, 64, kernel_size=(1, 1), stride=(1, 1), bias=False)\n",
            "        (bn): BatchNorm2d(64, eps=0.001, momentum=0.1, affine=True, track_running_stats=True)\n",
            "      )\n",
            "      (branch5x5_1): BasicConv2d(\n",
            "        (conv): Conv2d(256, 48, kernel_size=(1, 1), stride=(1, 1), bias=False)\n",
            "        (bn): BatchNorm2d(48, eps=0.001, momentum=0.1, affine=True, track_running_stats=True)\n",
            "      )\n",
            "      (branch5x5_2): BasicConv2d(\n",
            "        (conv): Conv2d(48, 64, kernel_size=(5, 5), stride=(1, 1), padding=(2, 2), bias=False)\n",
            "        (bn): BatchNorm2d(64, eps=0.001, momentum=0.1, affine=True, track_running_stats=True)\n",
            "      )\n",
            "      (branch3x3dbl_1): BasicConv2d(\n",
            "        (conv): Conv2d(256, 64, kernel_size=(1, 1), stride=(1, 1), bias=False)\n",
            "        (bn): BatchNorm2d(64, eps=0.001, momentum=0.1, affine=True, track_running_stats=True)\n",
            "      )\n",
            "      (branch3x3dbl_2): BasicConv2d(\n",
            "        (conv): Conv2d(64, 96, kernel_size=(3, 3), stride=(1, 1), padding=(1, 1), bias=False)\n",
            "        (bn): BatchNorm2d(96, eps=0.001, momentum=0.1, affine=True, track_running_stats=True)\n",
            "      )\n",
            "      (branch3x3dbl_3): BasicConv2d(\n",
            "        (conv): Conv2d(96, 96, kernel_size=(3, 3), stride=(1, 1), padding=(1, 1), bias=False)\n",
            "        (bn): BatchNorm2d(96, eps=0.001, momentum=0.1, affine=True, track_running_stats=True)\n",
            "      )\n",
            "      (branch_pool): BasicConv2d(\n",
            "        (conv): Conv2d(256, 64, kernel_size=(1, 1), stride=(1, 1), bias=False)\n",
            "        (bn): BatchNorm2d(64, eps=0.001, momentum=0.1, affine=True, track_running_stats=True)\n",
            "      )\n",
            "    )\n",
            "    (Mixed_5d): InceptionA(\n",
            "      (branch1x1): BasicConv2d(\n",
            "        (conv): Conv2d(288, 64, kernel_size=(1, 1), stride=(1, 1), bias=False)\n",
            "        (bn): BatchNorm2d(64, eps=0.001, momentum=0.1, affine=True, track_running_stats=True)\n",
            "      )\n",
            "      (branch5x5_1): BasicConv2d(\n",
            "        (conv): Conv2d(288, 48, kernel_size=(1, 1), stride=(1, 1), bias=False)\n",
            "        (bn): BatchNorm2d(48, eps=0.001, momentum=0.1, affine=True, track_running_stats=True)\n",
            "      )\n",
            "      (branch5x5_2): BasicConv2d(\n",
            "        (conv): Conv2d(48, 64, kernel_size=(5, 5), stride=(1, 1), padding=(2, 2), bias=False)\n",
            "        (bn): BatchNorm2d(64, eps=0.001, momentum=0.1, affine=True, track_running_stats=True)\n",
            "      )\n",
            "      (branch3x3dbl_1): BasicConv2d(\n",
            "        (conv): Conv2d(288, 64, kernel_size=(1, 1), stride=(1, 1), bias=False)\n",
            "        (bn): BatchNorm2d(64, eps=0.001, momentum=0.1, affine=True, track_running_stats=True)\n",
            "      )\n",
            "      (branch3x3dbl_2): BasicConv2d(\n",
            "        (conv): Conv2d(64, 96, kernel_size=(3, 3), stride=(1, 1), padding=(1, 1), bias=False)\n",
            "        (bn): BatchNorm2d(96, eps=0.001, momentum=0.1, affine=True, track_running_stats=True)\n",
            "      )\n",
            "      (branch3x3dbl_3): BasicConv2d(\n",
            "        (conv): Conv2d(96, 96, kernel_size=(3, 3), stride=(1, 1), padding=(1, 1), bias=False)\n",
            "        (bn): BatchNorm2d(96, eps=0.001, momentum=0.1, affine=True, track_running_stats=True)\n",
            "      )\n",
            "      (branch_pool): BasicConv2d(\n",
            "        (conv): Conv2d(288, 64, kernel_size=(1, 1), stride=(1, 1), bias=False)\n",
            "        (bn): BatchNorm2d(64, eps=0.001, momentum=0.1, affine=True, track_running_stats=True)\n",
            "      )\n",
            "    )\n",
            "    (Mixed_6a): InceptionB(\n",
            "      (branch3x3): BasicConv2d(\n",
            "        (conv): Conv2d(288, 384, kernel_size=(3, 3), stride=(2, 2), bias=False)\n",
            "        (bn): BatchNorm2d(384, eps=0.001, momentum=0.1, affine=True, track_running_stats=True)\n",
            "      )\n",
            "      (branch3x3dbl_1): BasicConv2d(\n",
            "        (conv): Conv2d(288, 64, kernel_size=(1, 1), stride=(1, 1), bias=False)\n",
            "        (bn): BatchNorm2d(64, eps=0.001, momentum=0.1, affine=True, track_running_stats=True)\n",
            "      )\n",
            "      (branch3x3dbl_2): BasicConv2d(\n",
            "        (conv): Conv2d(64, 96, kernel_size=(3, 3), stride=(1, 1), padding=(1, 1), bias=False)\n",
            "        (bn): BatchNorm2d(96, eps=0.001, momentum=0.1, affine=True, track_running_stats=True)\n",
            "      )\n",
            "      (branch3x3dbl_3): BasicConv2d(\n",
            "        (conv): Conv2d(96, 96, kernel_size=(3, 3), stride=(2, 2), bias=False)\n",
            "        (bn): BatchNorm2d(96, eps=0.001, momentum=0.1, affine=True, track_running_stats=True)\n",
            "      )\n",
            "    )\n",
            "    (Mixed_6b): InceptionC(\n",
            "      (branch1x1): BasicConv2d(\n",
            "        (conv): Conv2d(768, 192, kernel_size=(1, 1), stride=(1, 1), bias=False)\n",
            "        (bn): BatchNorm2d(192, eps=0.001, momentum=0.1, affine=True, track_running_stats=True)\n",
            "      )\n",
            "      (branch7x7_1): BasicConv2d(\n",
            "        (conv): Conv2d(768, 128, kernel_size=(1, 1), stride=(1, 1), bias=False)\n",
            "        (bn): BatchNorm2d(128, eps=0.001, momentum=0.1, affine=True, track_running_stats=True)\n",
            "      )\n",
            "      (branch7x7_2): BasicConv2d(\n",
            "        (conv): Conv2d(128, 128, kernel_size=(1, 7), stride=(1, 1), padding=(0, 3), bias=False)\n",
            "        (bn): BatchNorm2d(128, eps=0.001, momentum=0.1, affine=True, track_running_stats=True)\n",
            "      )\n",
            "      (branch7x7_3): BasicConv2d(\n",
            "        (conv): Conv2d(128, 192, kernel_size=(7, 1), stride=(1, 1), padding=(3, 0), bias=False)\n",
            "        (bn): BatchNorm2d(192, eps=0.001, momentum=0.1, affine=True, track_running_stats=True)\n",
            "      )\n",
            "      (branch7x7dbl_1): BasicConv2d(\n",
            "        (conv): Conv2d(768, 128, kernel_size=(1, 1), stride=(1, 1), bias=False)\n",
            "        (bn): BatchNorm2d(128, eps=0.001, momentum=0.1, affine=True, track_running_stats=True)\n",
            "      )\n",
            "      (branch7x7dbl_2): BasicConv2d(\n",
            "        (conv): Conv2d(128, 128, kernel_size=(7, 1), stride=(1, 1), padding=(3, 0), bias=False)\n",
            "        (bn): BatchNorm2d(128, eps=0.001, momentum=0.1, affine=True, track_running_stats=True)\n",
            "      )\n",
            "      (branch7x7dbl_3): BasicConv2d(\n",
            "        (conv): Conv2d(128, 128, kernel_size=(1, 7), stride=(1, 1), padding=(0, 3), bias=False)\n",
            "        (bn): BatchNorm2d(128, eps=0.001, momentum=0.1, affine=True, track_running_stats=True)\n",
            "      )\n",
            "      (branch7x7dbl_4): BasicConv2d(\n",
            "        (conv): Conv2d(128, 128, kernel_size=(7, 1), stride=(1, 1), padding=(3, 0), bias=False)\n",
            "        (bn): BatchNorm2d(128, eps=0.001, momentum=0.1, affine=True, track_running_stats=True)\n",
            "      )\n",
            "      (branch7x7dbl_5): BasicConv2d(\n",
            "        (conv): Conv2d(128, 192, kernel_size=(1, 7), stride=(1, 1), padding=(0, 3), bias=False)\n",
            "        (bn): BatchNorm2d(192, eps=0.001, momentum=0.1, affine=True, track_running_stats=True)\n",
            "      )\n",
            "      (branch_pool): BasicConv2d(\n",
            "        (conv): Conv2d(768, 192, kernel_size=(1, 1), stride=(1, 1), bias=False)\n",
            "        (bn): BatchNorm2d(192, eps=0.001, momentum=0.1, affine=True, track_running_stats=True)\n",
            "      )\n",
            "    )\n",
            "    (Mixed_6c): InceptionC(\n",
            "      (branch1x1): BasicConv2d(\n",
            "        (conv): Conv2d(768, 192, kernel_size=(1, 1), stride=(1, 1), bias=False)\n",
            "        (bn): BatchNorm2d(192, eps=0.001, momentum=0.1, affine=True, track_running_stats=True)\n",
            "      )\n",
            "      (branch7x7_1): BasicConv2d(\n",
            "        (conv): Conv2d(768, 160, kernel_size=(1, 1), stride=(1, 1), bias=False)\n",
            "        (bn): BatchNorm2d(160, eps=0.001, momentum=0.1, affine=True, track_running_stats=True)\n",
            "      )\n",
            "      (branch7x7_2): BasicConv2d(\n",
            "        (conv): Conv2d(160, 160, kernel_size=(1, 7), stride=(1, 1), padding=(0, 3), bias=False)\n",
            "        (bn): BatchNorm2d(160, eps=0.001, momentum=0.1, affine=True, track_running_stats=True)\n",
            "      )\n",
            "      (branch7x7_3): BasicConv2d(\n",
            "        (conv): Conv2d(160, 192, kernel_size=(7, 1), stride=(1, 1), padding=(3, 0), bias=False)\n",
            "        (bn): BatchNorm2d(192, eps=0.001, momentum=0.1, affine=True, track_running_stats=True)\n",
            "      )\n",
            "      (branch7x7dbl_1): BasicConv2d(\n",
            "        (conv): Conv2d(768, 160, kernel_size=(1, 1), stride=(1, 1), bias=False)\n",
            "        (bn): BatchNorm2d(160, eps=0.001, momentum=0.1, affine=True, track_running_stats=True)\n",
            "      )\n",
            "      (branch7x7dbl_2): BasicConv2d(\n",
            "        (conv): Conv2d(160, 160, kernel_size=(7, 1), stride=(1, 1), padding=(3, 0), bias=False)\n",
            "        (bn): BatchNorm2d(160, eps=0.001, momentum=0.1, affine=True, track_running_stats=True)\n",
            "      )\n",
            "      (branch7x7dbl_3): BasicConv2d(\n",
            "        (conv): Conv2d(160, 160, kernel_size=(1, 7), stride=(1, 1), padding=(0, 3), bias=False)\n",
            "        (bn): BatchNorm2d(160, eps=0.001, momentum=0.1, affine=True, track_running_stats=True)\n",
            "      )\n",
            "      (branch7x7dbl_4): BasicConv2d(\n",
            "        (conv): Conv2d(160, 160, kernel_size=(7, 1), stride=(1, 1), padding=(3, 0), bias=False)\n",
            "        (bn): BatchNorm2d(160, eps=0.001, momentum=0.1, affine=True, track_running_stats=True)\n",
            "      )\n",
            "      (branch7x7dbl_5): BasicConv2d(\n",
            "        (conv): Conv2d(160, 192, kernel_size=(1, 7), stride=(1, 1), padding=(0, 3), bias=False)\n",
            "        (bn): BatchNorm2d(192, eps=0.001, momentum=0.1, affine=True, track_running_stats=True)\n",
            "      )\n",
            "      (branch_pool): BasicConv2d(\n",
            "        (conv): Conv2d(768, 192, kernel_size=(1, 1), stride=(1, 1), bias=False)\n",
            "        (bn): BatchNorm2d(192, eps=0.001, momentum=0.1, affine=True, track_running_stats=True)\n",
            "      )\n",
            "    )\n",
            "    (Mixed_6d): InceptionC(\n",
            "      (branch1x1): BasicConv2d(\n",
            "        (conv): Conv2d(768, 192, kernel_size=(1, 1), stride=(1, 1), bias=False)\n",
            "        (bn): BatchNorm2d(192, eps=0.001, momentum=0.1, affine=True, track_running_stats=True)\n",
            "      )\n",
            "      (branch7x7_1): BasicConv2d(\n",
            "        (conv): Conv2d(768, 160, kernel_size=(1, 1), stride=(1, 1), bias=False)\n",
            "        (bn): BatchNorm2d(160, eps=0.001, momentum=0.1, affine=True, track_running_stats=True)\n",
            "      )\n",
            "      (branch7x7_2): BasicConv2d(\n",
            "        (conv): Conv2d(160, 160, kernel_size=(1, 7), stride=(1, 1), padding=(0, 3), bias=False)\n",
            "        (bn): BatchNorm2d(160, eps=0.001, momentum=0.1, affine=True, track_running_stats=True)\n",
            "      )\n",
            "      (branch7x7_3): BasicConv2d(\n",
            "        (conv): Conv2d(160, 192, kernel_size=(7, 1), stride=(1, 1), padding=(3, 0), bias=False)\n",
            "        (bn): BatchNorm2d(192, eps=0.001, momentum=0.1, affine=True, track_running_stats=True)\n",
            "      )\n",
            "      (branch7x7dbl_1): BasicConv2d(\n",
            "        (conv): Conv2d(768, 160, kernel_size=(1, 1), stride=(1, 1), bias=False)\n",
            "        (bn): BatchNorm2d(160, eps=0.001, momentum=0.1, affine=True, track_running_stats=True)\n",
            "      )\n",
            "      (branch7x7dbl_2): BasicConv2d(\n",
            "        (conv): Conv2d(160, 160, kernel_size=(7, 1), stride=(1, 1), padding=(3, 0), bias=False)\n",
            "        (bn): BatchNorm2d(160, eps=0.001, momentum=0.1, affine=True, track_running_stats=True)\n",
            "      )\n",
            "      (branch7x7dbl_3): BasicConv2d(\n",
            "        (conv): Conv2d(160, 160, kernel_size=(1, 7), stride=(1, 1), padding=(0, 3), bias=False)\n",
            "        (bn): BatchNorm2d(160, eps=0.001, momentum=0.1, affine=True, track_running_stats=True)\n",
            "      )\n",
            "      (branch7x7dbl_4): BasicConv2d(\n",
            "        (conv): Conv2d(160, 160, kernel_size=(7, 1), stride=(1, 1), padding=(3, 0), bias=False)\n",
            "        (bn): BatchNorm2d(160, eps=0.001, momentum=0.1, affine=True, track_running_stats=True)\n",
            "      )\n",
            "      (branch7x7dbl_5): BasicConv2d(\n",
            "        (conv): Conv2d(160, 192, kernel_size=(1, 7), stride=(1, 1), padding=(0, 3), bias=False)\n",
            "        (bn): BatchNorm2d(192, eps=0.001, momentum=0.1, affine=True, track_running_stats=True)\n",
            "      )\n",
            "      (branch_pool): BasicConv2d(\n",
            "        (conv): Conv2d(768, 192, kernel_size=(1, 1), stride=(1, 1), bias=False)\n",
            "        (bn): BatchNorm2d(192, eps=0.001, momentum=0.1, affine=True, track_running_stats=True)\n",
            "      )\n",
            "    )\n",
            "    (Mixed_6e): InceptionC(\n",
            "      (branch1x1): BasicConv2d(\n",
            "        (conv): Conv2d(768, 192, kernel_size=(1, 1), stride=(1, 1), bias=False)\n",
            "        (bn): BatchNorm2d(192, eps=0.001, momentum=0.1, affine=True, track_running_stats=True)\n",
            "      )\n",
            "      (branch7x7_1): BasicConv2d(\n",
            "        (conv): Conv2d(768, 192, kernel_size=(1, 1), stride=(1, 1), bias=False)\n",
            "        (bn): BatchNorm2d(192, eps=0.001, momentum=0.1, affine=True, track_running_stats=True)\n",
            "      )\n",
            "      (branch7x7_2): BasicConv2d(\n",
            "        (conv): Conv2d(192, 192, kernel_size=(1, 7), stride=(1, 1), padding=(0, 3), bias=False)\n",
            "        (bn): BatchNorm2d(192, eps=0.001, momentum=0.1, affine=True, track_running_stats=True)\n",
            "      )\n",
            "      (branch7x7_3): BasicConv2d(\n",
            "        (conv): Conv2d(192, 192, kernel_size=(7, 1), stride=(1, 1), padding=(3, 0), bias=False)\n",
            "        (bn): BatchNorm2d(192, eps=0.001, momentum=0.1, affine=True, track_running_stats=True)\n",
            "      )\n",
            "      (branch7x7dbl_1): BasicConv2d(\n",
            "        (conv): Conv2d(768, 192, kernel_size=(1, 1), stride=(1, 1), bias=False)\n",
            "        (bn): BatchNorm2d(192, eps=0.001, momentum=0.1, affine=True, track_running_stats=True)\n",
            "      )\n",
            "      (branch7x7dbl_2): BasicConv2d(\n",
            "        (conv): Conv2d(192, 192, kernel_size=(7, 1), stride=(1, 1), padding=(3, 0), bias=False)\n",
            "        (bn): BatchNorm2d(192, eps=0.001, momentum=0.1, affine=True, track_running_stats=True)\n",
            "      )\n",
            "      (branch7x7dbl_3): BasicConv2d(\n",
            "        (conv): Conv2d(192, 192, kernel_size=(1, 7), stride=(1, 1), padding=(0, 3), bias=False)\n",
            "        (bn): BatchNorm2d(192, eps=0.001, momentum=0.1, affine=True, track_running_stats=True)\n",
            "      )\n",
            "      (branch7x7dbl_4): BasicConv2d(\n",
            "        (conv): Conv2d(192, 192, kernel_size=(7, 1), stride=(1, 1), padding=(3, 0), bias=False)\n",
            "        (bn): BatchNorm2d(192, eps=0.001, momentum=0.1, affine=True, track_running_stats=True)\n",
            "      )\n",
            "      (branch7x7dbl_5): BasicConv2d(\n",
            "        (conv): Conv2d(192, 192, kernel_size=(1, 7), stride=(1, 1), padding=(0, 3), bias=False)\n",
            "        (bn): BatchNorm2d(192, eps=0.001, momentum=0.1, affine=True, track_running_stats=True)\n",
            "      )\n",
            "      (branch_pool): BasicConv2d(\n",
            "        (conv): Conv2d(768, 192, kernel_size=(1, 1), stride=(1, 1), bias=False)\n",
            "        (bn): BatchNorm2d(192, eps=0.001, momentum=0.1, affine=True, track_running_stats=True)\n",
            "      )\n",
            "    )\n",
            "    (AuxLogits): InceptionAux(\n",
            "      (conv0): BasicConv2d(\n",
            "        (conv): Conv2d(768, 128, kernel_size=(1, 1), stride=(1, 1), bias=False)\n",
            "        (bn): BatchNorm2d(128, eps=0.001, momentum=0.1, affine=True, track_running_stats=True)\n",
            "      )\n",
            "      (conv1): BasicConv2d(\n",
            "        (conv): Conv2d(128, 768, kernel_size=(5, 5), stride=(1, 1), bias=False)\n",
            "        (bn): BatchNorm2d(768, eps=0.001, momentum=0.1, affine=True, track_running_stats=True)\n",
            "      )\n",
            "      (fc): Linear(in_features=768, out_features=40, bias=True)\n",
            "    )\n",
            "    (Mixed_7a): InceptionD(\n",
            "      (branch3x3_1): BasicConv2d(\n",
            "        (conv): Conv2d(768, 192, kernel_size=(1, 1), stride=(1, 1), bias=False)\n",
            "        (bn): BatchNorm2d(192, eps=0.001, momentum=0.1, affine=True, track_running_stats=True)\n",
            "      )\n",
            "      (branch3x3_2): BasicConv2d(\n",
            "        (conv): Conv2d(192, 320, kernel_size=(3, 3), stride=(2, 2), bias=False)\n",
            "        (bn): BatchNorm2d(320, eps=0.001, momentum=0.1, affine=True, track_running_stats=True)\n",
            "      )\n",
            "      (branch7x7x3_1): BasicConv2d(\n",
            "        (conv): Conv2d(768, 192, kernel_size=(1, 1), stride=(1, 1), bias=False)\n",
            "        (bn): BatchNorm2d(192, eps=0.001, momentum=0.1, affine=True, track_running_stats=True)\n",
            "      )\n",
            "      (branch7x7x3_2): BasicConv2d(\n",
            "        (conv): Conv2d(192, 192, kernel_size=(1, 7), stride=(1, 1), padding=(0, 3), bias=False)\n",
            "        (bn): BatchNorm2d(192, eps=0.001, momentum=0.1, affine=True, track_running_stats=True)\n",
            "      )\n",
            "      (branch7x7x3_3): BasicConv2d(\n",
            "        (conv): Conv2d(192, 192, kernel_size=(7, 1), stride=(1, 1), padding=(3, 0), bias=False)\n",
            "        (bn): BatchNorm2d(192, eps=0.001, momentum=0.1, affine=True, track_running_stats=True)\n",
            "      )\n",
            "      (branch7x7x3_4): BasicConv2d(\n",
            "        (conv): Conv2d(192, 192, kernel_size=(3, 3), stride=(2, 2), bias=False)\n",
            "        (bn): BatchNorm2d(192, eps=0.001, momentum=0.1, affine=True, track_running_stats=True)\n",
            "      )\n",
            "    )\n",
            "    (Mixed_7b): InceptionE(\n",
            "      (branch1x1): BasicConv2d(\n",
            "        (conv): Conv2d(1280, 320, kernel_size=(1, 1), stride=(1, 1), bias=False)\n",
            "        (bn): BatchNorm2d(320, eps=0.001, momentum=0.1, affine=True, track_running_stats=True)\n",
            "      )\n",
            "      (branch3x3_1): BasicConv2d(\n",
            "        (conv): Conv2d(1280, 384, kernel_size=(1, 1), stride=(1, 1), bias=False)\n",
            "        (bn): BatchNorm2d(384, eps=0.001, momentum=0.1, affine=True, track_running_stats=True)\n",
            "      )\n",
            "      (branch3x3_2a): BasicConv2d(\n",
            "        (conv): Conv2d(384, 384, kernel_size=(1, 3), stride=(1, 1), padding=(0, 1), bias=False)\n",
            "        (bn): BatchNorm2d(384, eps=0.001, momentum=0.1, affine=True, track_running_stats=True)\n",
            "      )\n",
            "      (branch3x3_2b): BasicConv2d(\n",
            "        (conv): Conv2d(384, 384, kernel_size=(3, 1), stride=(1, 1), padding=(1, 0), bias=False)\n",
            "        (bn): BatchNorm2d(384, eps=0.001, momentum=0.1, affine=True, track_running_stats=True)\n",
            "      )\n",
            "      (branch3x3dbl_1): BasicConv2d(\n",
            "        (conv): Conv2d(1280, 448, kernel_size=(1, 1), stride=(1, 1), bias=False)\n",
            "        (bn): BatchNorm2d(448, eps=0.001, momentum=0.1, affine=True, track_running_stats=True)\n",
            "      )\n",
            "      (branch3x3dbl_2): BasicConv2d(\n",
            "        (conv): Conv2d(448, 384, kernel_size=(3, 3), stride=(1, 1), padding=(1, 1), bias=False)\n",
            "        (bn): BatchNorm2d(384, eps=0.001, momentum=0.1, affine=True, track_running_stats=True)\n",
            "      )\n",
            "      (branch3x3dbl_3a): BasicConv2d(\n",
            "        (conv): Conv2d(384, 384, kernel_size=(1, 3), stride=(1, 1), padding=(0, 1), bias=False)\n",
            "        (bn): BatchNorm2d(384, eps=0.001, momentum=0.1, affine=True, track_running_stats=True)\n",
            "      )\n",
            "      (branch3x3dbl_3b): BasicConv2d(\n",
            "        (conv): Conv2d(384, 384, kernel_size=(3, 1), stride=(1, 1), padding=(1, 0), bias=False)\n",
            "        (bn): BatchNorm2d(384, eps=0.001, momentum=0.1, affine=True, track_running_stats=True)\n",
            "      )\n",
            "      (branch_pool): BasicConv2d(\n",
            "        (conv): Conv2d(1280, 192, kernel_size=(1, 1), stride=(1, 1), bias=False)\n",
            "        (bn): BatchNorm2d(192, eps=0.001, momentum=0.1, affine=True, track_running_stats=True)\n",
            "      )\n",
            "    )\n",
            "    (Mixed_7c): InceptionE(\n",
            "      (branch1x1): BasicConv2d(\n",
            "        (conv): Conv2d(2048, 320, kernel_size=(1, 1), stride=(1, 1), bias=False)\n",
            "        (bn): BatchNorm2d(320, eps=0.001, momentum=0.1, affine=True, track_running_stats=True)\n",
            "      )\n",
            "      (branch3x3_1): BasicConv2d(\n",
            "        (conv): Conv2d(2048, 384, kernel_size=(1, 1), stride=(1, 1), bias=False)\n",
            "        (bn): BatchNorm2d(384, eps=0.001, momentum=0.1, affine=True, track_running_stats=True)\n",
            "      )\n",
            "      (branch3x3_2a): BasicConv2d(\n",
            "        (conv): Conv2d(384, 384, kernel_size=(1, 3), stride=(1, 1), padding=(0, 1), bias=False)\n",
            "        (bn): BatchNorm2d(384, eps=0.001, momentum=0.1, affine=True, track_running_stats=True)\n",
            "      )\n",
            "      (branch3x3_2b): BasicConv2d(\n",
            "        (conv): Conv2d(384, 384, kernel_size=(3, 1), stride=(1, 1), padding=(1, 0), bias=False)\n",
            "        (bn): BatchNorm2d(384, eps=0.001, momentum=0.1, affine=True, track_running_stats=True)\n",
            "      )\n",
            "      (branch3x3dbl_1): BasicConv2d(\n",
            "        (conv): Conv2d(2048, 448, kernel_size=(1, 1), stride=(1, 1), bias=False)\n",
            "        (bn): BatchNorm2d(448, eps=0.001, momentum=0.1, affine=True, track_running_stats=True)\n",
            "      )\n",
            "      (branch3x3dbl_2): BasicConv2d(\n",
            "        (conv): Conv2d(448, 384, kernel_size=(3, 3), stride=(1, 1), padding=(1, 1), bias=False)\n",
            "        (bn): BatchNorm2d(384, eps=0.001, momentum=0.1, affine=True, track_running_stats=True)\n",
            "      )\n",
            "      (branch3x3dbl_3a): BasicConv2d(\n",
            "        (conv): Conv2d(384, 384, kernel_size=(1, 3), stride=(1, 1), padding=(0, 1), bias=False)\n",
            "        (bn): BatchNorm2d(384, eps=0.001, momentum=0.1, affine=True, track_running_stats=True)\n",
            "      )\n",
            "      (branch3x3dbl_3b): BasicConv2d(\n",
            "        (conv): Conv2d(384, 384, kernel_size=(3, 1), stride=(1, 1), padding=(1, 0), bias=False)\n",
            "        (bn): BatchNorm2d(384, eps=0.001, momentum=0.1, affine=True, track_running_stats=True)\n",
            "      )\n",
            "      (branch_pool): BasicConv2d(\n",
            "        (conv): Conv2d(2048, 192, kernel_size=(1, 1), stride=(1, 1), bias=False)\n",
            "        (bn): BatchNorm2d(192, eps=0.001, momentum=0.1, affine=True, track_running_stats=True)\n",
            "      )\n",
            "    )\n",
            "    (avgpool): AdaptiveAvgPool2d(output_size=(1, 1))\n",
            "    (dropout): Dropout(p=0.5, inplace=False)\n",
            "    (fc): Linear(in_features=2048, out_features=512, bias=True)\n",
            "  )\n",
            "  (relu): ReLU()\n",
            "  (classifier): Sequential(\n",
            "    (0): Linear(in_features=512, out_features=40, bias=True)\n",
            "  )\n",
            ")\n",
            "Params to learn:\n",
            "\t pretrained.AuxLogits.fc.weight\n",
            "\t pretrained.AuxLogits.fc.bias\n",
            "\t pretrained.fc.weight\n",
            "\t pretrained.fc.bias\n",
            "\t classifier.0.weight\n",
            "\t classifier.0.bias\n",
            "/gdrive/MyDrive/11-785 Deep Learning/Project/Image-Net\n",
            "Training complete in 0m 0s\n",
            "Best val Acc: 0.000000\n"
          ],
          "name": "stdout"
        },
        {
          "output_type": "display_data",
          "data": {
            "text/html": [
              "<br/>Waiting for W&B process to finish, PID 119862<br/>Program ended successfully."
            ],
            "text/plain": [
              "<IPython.core.display.HTML object>"
            ]
          },
          "metadata": {
            "tags": []
          }
        },
        {
          "output_type": "display_data",
          "data": {
            "application/vnd.jupyter.widget-view+json": {
              "model_id": "0d8bf3bdd840433da182b76b99864ba6",
              "version_minor": 0,
              "version_major": 2
            },
            "text/plain": [
              "VBox(children=(Label(value=' 0.00MB of 0.00MB uploaded (0.00MB deduped)\\r'), FloatProgress(value=1.0, max=1.0)…"
            ]
          },
          "metadata": {
            "tags": []
          }
        },
        {
          "output_type": "display_data",
          "data": {
            "text/html": [
              "Find user logs for this run at: <code>/gdrive/MyDrive/11-785 Deep Learning/Project/wandb/run-20210507_002832-1cyrm7ig/logs/debug.log</code>"
            ],
            "text/plain": [
              "<IPython.core.display.HTML object>"
            ]
          },
          "metadata": {
            "tags": []
          }
        },
        {
          "output_type": "display_data",
          "data": {
            "text/html": [
              "Find internal logs for this run at: <code>/gdrive/MyDrive/11-785 Deep Learning/Project/wandb/run-20210507_002832-1cyrm7ig/logs/debug-internal.log</code>"
            ],
            "text/plain": [
              "<IPython.core.display.HTML object>"
            ]
          },
          "metadata": {
            "tags": []
          }
        },
        {
          "output_type": "display_data",
          "data": {
            "text/html": [
              "Synced 5 W&B file(s), 0 media file(s), 0 artifact file(s) and 0 other file(s)"
            ],
            "text/plain": [
              "<IPython.core.display.HTML object>"
            ]
          },
          "metadata": {
            "tags": []
          }
        },
        {
          "output_type": "display_data",
          "data": {
            "text/html": [
              "\n",
              "                    <br/>Synced <strong style=\"color:#cdcd00\">daily-sponge-40</strong>: <a href=\"https://wandb.ai/eegvision/Image-Net/runs/1cyrm7ig\" target=\"_blank\">https://wandb.ai/eegvision/Image-Net/runs/1cyrm7ig</a><br/>\n",
              "                "
            ],
            "text/plain": [
              "<IPython.core.display.HTML object>"
            ]
          },
          "metadata": {
            "tags": []
          }
        }
      ]
    },
    {
      "cell_type": "code",
      "metadata": {
        "colab": {
          "base_uri": "https://localhost:8080/"
        },
        "id": "XYoUafFMjUr5",
        "outputId": "96fc52d0-ccb5-48b5-e543-934cd2c8dce2"
      },
      "source": [
        "Image_Net.load_state_dict(torch.load('/gdrive/MyDrive/11-785 Deep Learning/Project/Image-Net/ImageNet2epoch14.pth'))"
      ],
      "execution_count": 9,
      "outputs": [
        {
          "output_type": "execute_result",
          "data": {
            "text/plain": [
              "<All keys matched successfully>"
            ]
          },
          "metadata": {
            "tags": []
          },
          "execution_count": 9
        }
      ]
    },
    {
      "cell_type": "markdown",
      "metadata": {
        "id": "Z6WRkkPwl2SU"
      },
      "source": [
        "# Create feature dataset"
      ]
    },
    {
      "cell_type": "code",
      "metadata": {
        "id": "ftG6sPtyb8VX"
      },
      "source": [
        "nr_eeg_features, nr_image_features = 0, 0\n",
        "new_Image_data_loaders = None"
      ],
      "execution_count": 10,
      "outputs": []
    },
    {
      "cell_type": "code",
      "metadata": {
        "id": "H8PY9dAPly1T"
      },
      "source": [
        "def make_feature_datasets(EEG_data_loaders, Image_data_loaders):\n",
        "    global nr_eeg_features, nr_image_features, new_Image_data_loaders\n",
        "\n",
        "    input_size = 299 if Image_hyperparams['model_name'] == 'inception' else 224\n",
        "    new_Image_data_loaders = make_EEG_to_Image_data_loaders(EEG_data_loaders, Image_dataset_path, input_size)\n",
        "    \n",
        "    for phase in ['train_unshuffle', 'val', 'test']:\n",
        "        # Pass in train, valid, test data through EEG-Net to get EEG features\n",
        "        _, eeg_features, _ = test_EEG_Net(EEG_Net, EEG_data_loaders[phase])\n",
        "        eeg_features = [item for sublist in eeg_features for item in sublist]\n",
        "        nr_eeg_features = len(eeg_features[0])\n",
        "\n",
        "        # Pass in train, valid, test data through Image-Net to get Image features\n",
        "        _, image_features, _ = test_Image_Net(Image_Net, new_Image_data_loaders[phase])\n",
        "        image_features = [item for sublist in image_features for item in sublist]\n",
        "        nr_image_features = len(image_features[0])\n",
        "\n",
        "        # Get class labels for each feature embedding pair\n",
        "        class_labels = get_class_labels(new_Image_data_loaders[phase])\n",
        "        class_labels = [item for sublist in class_labels for item in sublist]\n",
        "\n",
        "        data_path = phase + '_data_' + str(EEG_hyperparams['model_nr']) + '.npy'\n",
        "        np.save(data_path, np.array(eeg_features))\n",
        "\n",
        "        labels_path = phase + '_labels_' + str(EEG_hyperparams['model_nr']) + '.npy'\n",
        "        np.save(labels_path, np.array(image_features))\n",
        "\n",
        "        class_labels_path = phase + '_class_labels_' + str(EEG_hyperparams['model_nr']) + '.npy'\n",
        "        np.save(class_labels_path, np.array(class_labels))\n",
        "\n",
        "        print(data_path, labels_path, class_labels_path)\n"
      ],
      "execution_count": 11,
      "outputs": []
    },
    {
      "cell_type": "code",
      "metadata": {
        "id": "BZYeLD6_mEPi",
        "colab": {
          "base_uri": "https://localhost:8080/"
        },
        "outputId": "2aa32c8f-5cf9-49fe-90cb-27207b8a9a1a"
      },
      "source": [
        "%cd /gdrive/MyDrive/11-785 Deep Learning/Project\n",
        "make_feature_datasets(EEG_data_loaders, Image_data_loaders)\n",
        "\n",
        "print(nr_eeg_features, nr_image_features)"
      ],
      "execution_count": 12,
      "outputs": [
        {
          "output_type": "stream",
          "text": [
            "/gdrive/MyDrive/11-785 Deep Learning/Project\n",
            "train_unshuffle_data_13.npy train_unshuffle_labels_13.npy train_unshuffle_class_labels_13.npy\n",
            "val_data_13.npy val_labels_13.npy val_class_labels_13.npy\n",
            "test_data_13.npy test_labels_13.npy test_class_labels_13.npy\n",
            "128 512\n"
          ],
          "name": "stdout"
        }
      ]
    },
    {
      "cell_type": "markdown",
      "metadata": {
        "id": "zUi13f6oY-52"
      },
      "source": [
        "# Pipeline EEG-Image-Map"
      ]
    },
    {
      "cell_type": "code",
      "metadata": {
        "id": "_1BSZXuVZCPe"
      },
      "source": [
        "def model_pipeline_EEG_Image_Map(hyperparameters):\n",
        "    %cd /gdrive/MyDrive/11-785 Deep Learning/Project\n",
        "\n",
        "    with wandb.init(project='EEG-Image-Map', entity='eegvision', config=hyperparameters):\n",
        "      config = wandb.config\n",
        "      model, feature_data_loaders, criterion, optimizer, scheduler = make_EEG_Image_Map(config)\n",
        "\n",
        "      %cd EEG-Image-Map\n",
        "      model, val_acc_hist = train_and_val_EEG_Image_Map(wandb, config, model, feature_data_loaders, criterion, optimizer, scheduler, num_epochs=config.num_epochs)\n",
        "\n",
        "    return model, feature_data_loaders, val_acc_hist, criterion"
      ],
      "execution_count": 13,
      "outputs": []
    },
    {
      "cell_type": "code",
      "metadata": {
        "id": "6i43ifU9Znm1",
        "colab": {
          "base_uri": "https://localhost:8080/",
          "height": 1000,
          "referenced_widgets": [
            "e612ac0410d14832becb61e08611deb7",
            "0692d2c7c311423babc3308f00407362",
            "37b68d7c807b483597de448834988735",
            "f46c57fd67cb4bc6bccf904359f2c605",
            "39ba36468b954b90b00103525778ebfa",
            "1ac6fd3bfff3485abd104f19ecd24b33",
            "1e4a38fa77924d84805e768abec73b45",
            "84c99d6380c24054b82b0d07500d8088"
          ]
        },
        "outputId": "b77eff42-9032-4754-f94d-1aeb8e5fa470"
      },
      "source": [
        "feature_hyperparams = dict(\n",
        "    model_nr = 21,\n",
        "\n",
        "    # Models to choose from [mlp, bilstm]\n",
        "    model = \"mlp\",\n",
        "\n",
        "    train_data_path   = 'train_unshuffle_data_13.npy',\n",
        "    train_labels_path = 'train_unshuffle_labels_13.npy',\n",
        "    train_class_labels_path = 'train_unshuffle_class_labels_13.npy',\n",
        "    val_data_path     = 'val_data_13.npy',\n",
        "    val_labels_path   = 'val_labels_13.npy',\n",
        "    val_class_labels_path = 'val_class_labels_13.npy',\n",
        "    test_data_path    = 'test_data_13.npy',\n",
        "    test_labels_path  = 'test_labels_13.npy',\n",
        "    test_class_labels_path = 'test_class_labels_13.npy',\n",
        "    bidirectional    = True,\n",
        "    lr               = 0.00001,\n",
        "    wd               = 5e-6,\n",
        "    dropout_prob     = 0.1,\n",
        "    num_layers       = 1,\n",
        "    hidden_size      = 50,\n",
        "    num_classes      = nr_image_features, #? (same as extractec image features)\n",
        "    embiddings_num   = nr_eeg_features,  #  (same as number of features extracted from EEG_Net)\n",
        "    batch_size       = 64,\n",
        "    patience         = 1,\n",
        "    scheduler_factor = 0.5,\n",
        "    num_epochs       = 50,\n",
        "    mlp_layers       = [nr_eeg_features, 256, 256, 512, nr_image_features],\n",
        "    criterion        = 'cosine',\n",
        "    scheduler        = 'plateau',\n",
        "    step_size        = 50,\n",
        ")\n",
        "\n",
        "EEG_Image_Map, feature_data_loaders, val_acc_hist, feature_criterion = model_pipeline_EEG_Image_Map(feature_hyperparams)"
      ],
      "execution_count": 16,
      "outputs": [
        {
          "output_type": "stream",
          "text": [
            "/gdrive/MyDrive/11-785 Deep Learning/Project\n"
          ],
          "name": "stdout"
        },
        {
          "output_type": "display_data",
          "data": {
            "text/html": [
              "\n",
              "                Tracking run with wandb version 0.10.29<br/>\n",
              "                Syncing run <strong style=\"color:#cdcd00\">absurd-armadillo-67</strong> to <a href=\"https://wandb.ai\" target=\"_blank\">Weights & Biases</a> <a href=\"https://docs.wandb.com/integrations/jupyter.html\" target=\"_blank\">(Documentation)</a>.<br/>\n",
              "                Project page: <a href=\"https://wandb.ai/eegvision/EEG-Image-Map\" target=\"_blank\">https://wandb.ai/eegvision/EEG-Image-Map</a><br/>\n",
              "                Run page: <a href=\"https://wandb.ai/eegvision/EEG-Image-Map/runs/169dxqf5\" target=\"_blank\">https://wandb.ai/eegvision/EEG-Image-Map/runs/169dxqf5</a><br/>\n",
              "                Run data is saved locally in <code>/gdrive/MyDrive/11-785 Deep Learning/Project/wandb/run-20210507_003730-169dxqf5</code><br/><br/>\n",
              "            "
            ],
            "text/plain": [
              "<IPython.core.display.HTML object>"
            ]
          },
          "metadata": {
            "tags": []
          }
        },
        {
          "output_type": "stream",
          "text": [
            "/gdrive/MyDrive/11-785 Deep Learning/Project/EEG-Image-Map\n",
            "Epoch 2/50\n",
            "----------\n",
            "[train] Loss: 0.4102\n",
            "[val] Loss: 0.2973\n",
            "Epoch 7/50\n",
            "----------\n",
            "[train] Loss: 0.1511\n",
            "[val] Loss: 0.1260\n",
            "Epoch 12/50\n",
            "----------\n",
            "[train] Loss: 0.1145\n",
            "[val] Loss: 0.1011\n",
            "Epoch 17/50\n",
            "----------\n",
            "[train] Loss: 0.1001\n",
            "[val] Loss: 0.0919\n",
            "Epoch 22/50\n",
            "----------\n",
            "[train] Loss: 0.0923\n",
            "[val] Loss: 0.0873\n",
            "Epoch 27/50\n",
            "----------\n",
            "[train] Loss: 0.0868\n",
            "[val] Loss: 0.0843\n",
            "Epoch 32/50\n",
            "----------\n",
            "[train] Loss: 0.0822\n",
            "[val] Loss: 0.0822\n",
            "Epoch 37/50\n",
            "----------\n",
            "[train] Loss: 0.0782\n",
            "[val] Loss: 0.0804\n",
            "Epoch 42/50\n",
            "----------\n",
            "[train] Loss: 0.0743\n",
            "[val] Loss: 0.0794\n",
            "Epoch 47/50\n",
            "----------\n",
            "[train] Loss: 0.0708\n",
            "[val] Loss: 0.0786\n",
            "Training complete in 1m 55s\n",
            "Best val Loss: 0.078297\n"
          ],
          "name": "stdout"
        },
        {
          "output_type": "display_data",
          "data": {
            "text/html": [
              "<br/>Waiting for W&B process to finish, PID 120145<br/>Program ended successfully."
            ],
            "text/plain": [
              "<IPython.core.display.HTML object>"
            ]
          },
          "metadata": {
            "tags": []
          }
        },
        {
          "output_type": "display_data",
          "data": {
            "application/vnd.jupyter.widget-view+json": {
              "model_id": "e612ac0410d14832becb61e08611deb7",
              "version_minor": 0,
              "version_major": 2
            },
            "text/plain": [
              "VBox(children=(Label(value=' 0.00MB of 0.00MB uploaded (0.00MB deduped)\\r'), FloatProgress(value=1.0, max=1.0)…"
            ]
          },
          "metadata": {
            "tags": []
          }
        },
        {
          "output_type": "display_data",
          "data": {
            "text/html": [
              "Find user logs for this run at: <code>/gdrive/MyDrive/11-785 Deep Learning/Project/wandb/run-20210507_003730-169dxqf5/logs/debug.log</code>"
            ],
            "text/plain": [
              "<IPython.core.display.HTML object>"
            ]
          },
          "metadata": {
            "tags": []
          }
        },
        {
          "output_type": "display_data",
          "data": {
            "text/html": [
              "Find internal logs for this run at: <code>/gdrive/MyDrive/11-785 Deep Learning/Project/wandb/run-20210507_003730-169dxqf5/logs/debug-internal.log</code>"
            ],
            "text/plain": [
              "<IPython.core.display.HTML object>"
            ]
          },
          "metadata": {
            "tags": []
          }
        },
        {
          "output_type": "display_data",
          "data": {
            "text/html": [
              "<h3>Run summary:</h3><br/><style>\n",
              "    table.wandb td:nth-child(1) { padding: 0 10px; text-align: right }\n",
              "    </style><table class=\"wandb\">\n",
              "<tr><td>epoch</td><td>49</td></tr><tr><td>train_loss</td><td>0.06876</td></tr><tr><td>_runtime</td><td>118</td></tr><tr><td>_timestamp</td><td>1620347968</td></tr><tr><td>_step</td><td>99</td></tr><tr><td>val_loss</td><td>0.07844</td></tr></table>"
            ],
            "text/plain": [
              "<IPython.core.display.HTML object>"
            ]
          },
          "metadata": {
            "tags": []
          }
        },
        {
          "output_type": "display_data",
          "data": {
            "text/html": [
              "<h3>Run history:</h3><br/><style>\n",
              "    table.wandb td:nth-child(1) { padding: 0 10px; text-align: right }\n",
              "    </style><table class=\"wandb\">\n",
              "<tr><td>epoch</td><td>▁▁▁▁▂▂▂▂▂▃▃▃▃▃▃▄▄▄▄▄▅▅▅▅▅▅▆▆▆▆▆▇▇▇▇▇▇███</td></tr><tr><td>train_loss</td><td>█▅▃▃▂▂▂▂▂▁▁▁▁▁▁▁▁▁▁▁▁▁▁▁▁▁▁▁▁▁▁▁▁▁▁▁▁▁▁▁</td></tr><tr><td>_runtime</td><td>▁▁▁▁▂▂▂▂▂▃▃▃▃▃▃▄▄▄▄▄▅▅▅▅▅▅▆▆▆▆▆▇▇▇▇▇▇███</td></tr><tr><td>_timestamp</td><td>▁▁▁▁▂▂▂▂▂▃▃▃▃▃▃▄▄▄▄▄▅▅▅▅▅▅▆▆▆▆▆▇▇▇▇▇▇███</td></tr><tr><td>_step</td><td>▁▁▁▁▂▂▂▂▂▃▃▃▃▃▃▄▄▄▄▄▅▅▅▅▅▅▆▆▆▆▆▇▇▇▇▇▇███</td></tr><tr><td>val_loss</td><td>█▅▃▃▂▂▂▂▁▁▁▁▁▁▁▁▁▁▁▁▁▁▁▁▁▁▁▁▁▁▁▁▁▁▁▁▁▁▁▁</td></tr></table><br/>"
            ],
            "text/plain": [
              "<IPython.core.display.HTML object>"
            ]
          },
          "metadata": {
            "tags": []
          }
        },
        {
          "output_type": "display_data",
          "data": {
            "text/html": [
              "Synced 5 W&B file(s), 0 media file(s), 0 artifact file(s) and 0 other file(s)"
            ],
            "text/plain": [
              "<IPython.core.display.HTML object>"
            ]
          },
          "metadata": {
            "tags": []
          }
        },
        {
          "output_type": "display_data",
          "data": {
            "text/html": [
              "\n",
              "                    <br/>Synced <strong style=\"color:#cdcd00\">absurd-armadillo-67</strong>: <a href=\"https://wandb.ai/eegvision/EEG-Image-Map/runs/169dxqf5\" target=\"_blank\">https://wandb.ai/eegvision/EEG-Image-Map/runs/169dxqf5</a><br/>\n",
              "                "
            ],
            "text/plain": [
              "<IPython.core.display.HTML object>"
            ]
          },
          "metadata": {
            "tags": []
          }
        }
      ]
    },
    {
      "cell_type": "code",
      "metadata": {
        "colab": {
          "base_uri": "https://localhost:8080/"
        },
        "id": "sZu9ZYXPvGAD",
        "outputId": "627bf37f-c57b-4188-f4ae-976a9cf70e90"
      },
      "source": [
        "EEG_Image_Map.load_state_dict(torch.load('/gdrive/MyDrive/11-785 Deep Learning/Project/EEG-Image-Map/EEGImageMap20epoch150.pth'))"
      ],
      "execution_count": 15,
      "outputs": [
        {
          "output_type": "execute_result",
          "data": {
            "text/plain": [
              "<All keys matched successfully>"
            ]
          },
          "metadata": {
            "tags": []
          },
          "execution_count": 15
        }
      ]
    },
    {
      "cell_type": "markdown",
      "metadata": {
        "id": "HsPwA-QsZ-0o"
      },
      "source": [
        "# Evaluate System"
      ]
    },
    {
      "cell_type": "code",
      "metadata": {
        "id": "mTzhQYn2eFfh"
      },
      "source": [
        "def evaluate_system(phase='test', verbose=True):\n",
        "    # # Evaluate EEG-Net\n",
        "    _, _, eeg_acc = test_EEG_Net(EEG_Net, EEG_data_loaders[phase])\n",
        "\n",
        "    # # Evaluate Image-Net\n",
        "    _, _, image_acc = test_Image_Net(Image_Net, Image_data_loaders[phase])\n",
        "\n",
        "    # Evaluate EEG-Image-Map\n",
        "\n",
        "    feature_out = test_EEG_Image_Map(EEG_Image_Map, feature_data_loaders[phase])\n",
        "    feature_out = [item for sublist in feature_out for item in sublist]\n",
        "\n",
        "    feature_id_acc, feature_class_acc, similarities = calc_map_metrics(feature_out, feature_data_loaders[phase])\n",
        "    avg_similarity = sum(similarities)/len(similarities)\n",
        "\n",
        "    if verbose:\n",
        "        print('EEG-Net ' + phase + '  accuracy:', round(eeg_acc*100, 4), '%')\n",
        "        print('Image-Net ' + phase + '  accuracy:', round(image_acc*100, 4), '%')\n",
        "        print('EEG-Image-Map avg ' + phase + ' cosine similarity:', round(avg_similarity, 4))\n",
        "        print('EEG-Image-Map ' + phase + ' classification accuracy:', round(feature_class_acc*100, 6), '%')\n",
        "        print('EEG-Image-Map ' + phase + ' identification accuracy:', round(feature_id_acc*100, 6), '%')\n",
        "\n",
        "    return eeg_acc, image_acc, avg_similarity, feature_class_acc, feature_id_acc\n",
        "\n",
        "def evaluate_out_system(phase='test', verbose=True):\n",
        "    # Evaluate EEG-Net\n",
        "    phase_eeg = 'val' if phase == 'test' else phase\n",
        "    _, _, eeg_acc = test_EEG_Net(EEG_Net, EEG_data_loaders[phase_eeg])\n",
        "\n",
        "    # Evaluate Image-Net\n",
        "    _, _, image_acc = test_Image_Net(Image_Net, Image_data_loaders[phase])\n",
        "\n",
        "    # Evaluate EEG-Image-Map\n",
        "    feature_out = test_EEG_Image_Map(EEG_Image_Map, feature_data_loaders[phase])\n",
        "    feature_out = [item for sublist in feature_out for item in sublist]\n",
        "\n",
        "    feature_id_acc, feature_class_acc, similarities = calc_map_metrics(feature_out, feature_data_loaders[phase])\n",
        "    avg_similarity = sum(similarities)/len(similarities)\n",
        "\n",
        "    if verbose:\n",
        "        print('EEG-Net ' + phase_eeg + ' accuracy:', round(eeg_acc*100, 4), '%')\n",
        "        print('Image-Net ' + phase + ' accuracy:', round(image_acc*100, 4), '%')\n",
        "        print('EEG-Image-Map avg ' + phase + ' cosine similarity:', round(avg_similarity, 4))\n",
        "        print('EEG-Image-Map ' + phase + ' classification accuracy:', round(feature_class_acc*100, 6), '%')\n",
        "        print('EEG-Image-Map ' + phase + ' identification accuracy:', round(feature_id_acc*100, 6), '%')\n",
        "\n",
        "    return eeg_acc, image_acc, avg_similarity, feature_class_acc, feature_id_acc\n"
      ],
      "execution_count": 19,
      "outputs": []
    },
    {
      "cell_type": "code",
      "metadata": {
        "id": "PBQvVxUgZ9-f",
        "colab": {
          "base_uri": "https://localhost:8080/"
        },
        "outputId": "72a4042c-aa14-4c07-906d-e4aa6e682902"
      },
      "source": [
        "if EEG_hyperparams['num_classes'] == 40:\n",
        "    eeg_acc, image_acc, avg_similarity, feature_class_acc, feature_id_acc = evaluate_system(phase='test')\n",
        "else:\n",
        "    eeg_acc, image_acc, avg_similarity, feature_class_acc, feature_id_acc = evaluate_out_system(phase='val')"
      ],
      "execution_count": 21,
      "outputs": [
        {
          "output_type": "stream",
          "text": [
            "EEG-Net val accuracy: 52.7778 %\n",
            "Image-Net val accuracy: 98.2759 %\n",
            "EEG-Image-Map avg val cosine similarity: 0.9217\n",
            "EEG-Image-Map val classification accuracy: 44.636015 %\n",
            "EEG-Image-Map val identification accuracy: 1.245211 %\n"
          ],
          "name": "stdout"
        }
      ]
    },
    {
      "cell_type": "code",
      "metadata": {
        "colab": {
          "base_uri": "https://localhost:8080/"
        },
        "id": "uq7caPj4XIvw",
        "outputId": "c8331491-b926-4a97-c03c-a5131832df62"
      },
      "source": [
        "# Accuracy when selecting randomly\n",
        "100/(len(feature_data_loaders['test'])*feature_hyperparams['batch_size'])"
      ],
      "execution_count": null,
      "outputs": [
        {
          "output_type": "execute_result",
          "data": {
            "text/plain": [
              "0.08223684210526316"
            ]
          },
          "metadata": {
            "tags": []
          },
          "execution_count": 23
        }
      ]
    }
  ]
}