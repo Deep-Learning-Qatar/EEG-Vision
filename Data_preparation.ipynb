{
  "nbformat": 4,
  "nbformat_minor": 0,
  "metadata": {
    "colab": {
      "name": "Data preparation",
      "provenance": [],
      "collapsed_sections": [],
      "mount_file_id": "18F8PWSFdPIC8dScABSO67T0Jss9YgIuG",
      "authorship_tag": "ABX9TyNDcJHZtmoW/SUW63youtPm",
      "include_colab_link": true
    },
    "kernelspec": {
      "display_name": "Python 3",
      "name": "python3"
    },
    "language_info": {
      "name": "python"
    }
  },
  "cells": [
    {
      "cell_type": "markdown",
      "metadata": {
        "id": "view-in-github",
        "colab_type": "text"
      },
      "source": [
        "<a href=\"https://colab.research.google.com/github/Deep-Learning-Qatar/EEG-Vision/blob/main/Data_preparation.ipynb\" target=\"_parent\"><img src=\"https://colab.research.google.com/assets/colab-badge.svg\" alt=\"Open In Colab\"/></a>"
      ]
    },
    {
      "cell_type": "markdown",
      "metadata": {
        "id": "TbpgPlt9U0e4"
      },
      "source": [
        "# Imports"
      ]
    },
    {
      "cell_type": "code",
      "metadata": {
        "colab": {
          "base_uri": "https://localhost:8080/"
        },
        "id": "ZBoTpEzVVGoi",
        "outputId": "add40cbe-b87f-4758-b9b6-35f9b094753d"
      },
      "source": [
        "from google.colab import drive\n",
        "drive.mount('/content/gdrive')"
      ],
      "execution_count": 1,
      "outputs": [
        {
          "output_type": "stream",
          "text": [
            "Mounted at /content/gdrive\n"
          ],
          "name": "stdout"
        }
      ]
    },
    {
      "cell_type": "code",
      "metadata": {
        "id": "Qcdf2D3TDE9j"
      },
      "source": [
        "import numpy as np\n",
        "import pandas as pd\n",
        "\n",
        "import torch\n",
        "import torch.nn as nn\n",
        "import torch.nn.functional as F\n",
        "import torch.optim as optim\n",
        "from torch.utils import data\n",
        "\n",
        "import matplotlib.pyplot as plt\n",
        "import random"
      ],
      "execution_count": 2,
      "outputs": []
    },
    {
      "cell_type": "code",
      "metadata": {
        "colab": {
          "base_uri": "https://localhost:8080/"
        },
        "id": "p5pYHLdAVWgX",
        "outputId": "908a8e33-7f3a-4669-cc3a-1c72a05516fa"
      },
      "source": [
        "cuda = torch.cuda.is_available()\n",
        "print('Cuda:', cuda)"
      ],
      "execution_count": 3,
      "outputs": [
        {
          "output_type": "stream",
          "text": [
            "Cuda: False\n"
          ],
          "name": "stdout"
        }
      ]
    },
    {
      "cell_type": "markdown",
      "metadata": {
        "id": "lPYS8SRnVilr"
      },
      "source": [
        "# Data Organisation"
      ]
    },
    {
      "cell_type": "code",
      "metadata": {
        "colab": {
          "base_uri": "https://localhost:8080/"
        },
        "id": "iysPWvxSViM3",
        "outputId": "feae61a2-63f2-4ccf-c000-49faee92c4ea"
      },
      "source": [
        "data_path = '/content/gdrive/MyDrive/11-785 Deep Learning/Project/eeg_55_95_std.pth'\n",
        "data_dict = torch.load(data_path)\n",
        "data_dict.keys()"
      ],
      "execution_count": 5,
      "outputs": [
        {
          "output_type": "execute_result",
          "data": {
            "text/plain": [
              "dict_keys(['dataset', 'labels', 'images'])"
            ]
          },
          "metadata": {
            "tags": []
          },
          "execution_count": 5
        }
      ]
    },
    {
      "cell_type": "code",
      "metadata": {
        "id": "v-2pofgGWaxr"
      },
      "source": [
        "# Load data and create dataset for each split\n",
        "def split_train_val_test(data_dict, splits=(0.8, 0.1, 0.1)):\n",
        "\n",
        "    # Find all possible image IDs\n",
        "    image_ids = set()\n",
        "    for di in data_dict['dataset']:\n",
        "        image_ids.add(di['image'])\n",
        "    # print(len(image_ids))\n",
        "\n",
        "    # Organise data by image (key: image ID, val: list of data dicts with all data)\n",
        "    data_by_image = dict()\n",
        "    for id in image_ids:\n",
        "        data_by_image[id] = []\n",
        "    for di in data_dict['dataset']:\n",
        "        image_id = di['image']\n",
        "        data_by_image[image_id].append(di)\n",
        "\n",
        "    # Shuffle data so selection for splits are random\n",
        "    image_ids_li = list(image_ids)\n",
        "    random.shuffle(image_ids_li)\n",
        "    data_by_image = {id: data_by_image[id] for id in image_ids_li}\n",
        "    \n",
        "    # Create val and test sets\n",
        "    data_len = len(image_ids_li)\n",
        "    val_len, test_len = int(splits[1]*data_len), int(splits[2]*data_len)\n",
        "    val_data, test_data = dict(), dict()\n",
        "    for i in range(val_len):\n",
        "        k, v = data_by_image.popitem()\n",
        "        val_data[k] = v\n",
        "    for i in range(test_len):\n",
        "        k, v = data_by_image.popitem()\n",
        "        test_data[k] = v\n",
        "    train_data = data_by_image\n",
        "    # print(train_data.keys())\n",
        "    # print(val_data.keys())\n",
        "    # print(test_data.keys())\n",
        "    \n",
        "    # Return all sets\n",
        "    return train_data, val_data, test_data"
      ],
      "execution_count": 10,
      "outputs": []
    },
    {
      "cell_type": "code",
      "metadata": {
        "id": "QGplpjcPZB8k"
      },
      "source": [
        "# TODO: Make a split function where a number of classes are kept away from training"
      ],
      "execution_count": null,
      "outputs": []
    },
    {
      "cell_type": "code",
      "metadata": {
        "id": "buR2Olb7CNSQ"
      },
      "source": [
        "# General data set for EEG data dictionary\n",
        "class EEGDataSet(data.Dataset):\n",
        "    def __init__(self, data_dict, x_label='eeg', y_label='label', interval=(20, 460)):\n",
        "        dl = list(data_dict.values())\n",
        "        self.data_list = [item for sublist in dl for item in sublist]\n",
        "        self.length = len(self.data_list)\n",
        "        self.interval = interval\n",
        "        self.x_label = x_label\n",
        "        self.y_label = y_label\n",
        "        \n",
        "    def __len__(self):\n",
        "        return self.length\n",
        "    \n",
        "    def __getitem__(self, index):\n",
        "        data_entry = self.data_list[index]\n",
        "        x = data_entry[self.x_label]\n",
        "        if self.x_label == 'eeg':\n",
        "            x = x[:, self.interval[0]:self.interval[1]]\n",
        "        else:\n",
        "            x = torch.as_tensor(x).float()\n",
        "        y = data_entry[self.y_label]\n",
        "        if self.y_label == 'eeg':\n",
        "            y = y[:, self.interval[0]:self.interval[1]]\n",
        "        else:\n",
        "            y = torch.as_tensor(y).long()\n",
        "        return x, y"
      ],
      "execution_count": 19,
      "outputs": []
    },
    {
      "cell_type": "code",
      "metadata": {
        "id": "NamopC2vgsQB"
      },
      "source": [
        "train_data, val_data, test_data = split_train_val_test(data_dict)"
      ],
      "execution_count": 11,
      "outputs": []
    },
    {
      "cell_type": "code",
      "metadata": {
        "id": "_O9cfW63nwB5"
      },
      "source": [
        "train_dataset = EEGDataSet(train_data)\n",
        "train_loader_args = dict(shuffle=True, batch_size=16, num_workers=2) if cuda\\\n",
        "                    else dict(shuffle=True, batch_size=16)\n",
        "train_loader = data.DataLoader(train_dataset, **train_loader_args)\n",
        "\n",
        "val_dataset = EEGDataSet(val_data)\n",
        "val_loader_args = dict(shuffle=False, batch_size=16, num_workers=2) if cuda\\\n",
        "                    else dict(shuffle=False, batch_size=16)\n",
        "val_loader = data.DataLoader(val_dataset, **val_loader_args)\n",
        "\n",
        "test_dataset = EEGDataSet(test_data)\n",
        "test_loader_args = dict(shuffle=False, batch_size=16, num_workers=2) if cuda\\\n",
        "                    else dict(shuffle=False, batch_size=16)\n",
        "test_loader = data.DataLoader(test_dataset, **test_loader_args)"
      ],
      "execution_count": 20,
      "outputs": []
    },
    {
      "cell_type": "code",
      "metadata": {
        "colab": {
          "base_uri": "https://localhost:8080/"
        },
        "id": "iD4DRMoeqX6I",
        "outputId": "061f6664-9e18-4a80-9f36-38f07bc35c10"
      },
      "source": [
        "# Check if loader works\n",
        "for i, d in enumerate(train_loader):\n",
        "    if i == 0:\n",
        "        print(d[0].shape)\n",
        "        print(d[1])\n",
        "        break\n",
        "\n",
        "# Correct output: \n",
        "# torch.Size([16, 128, 440])\n",
        "# tensor([ list with 16 values between 0 and 39 ])"
      ],
      "execution_count": 23,
      "outputs": [
        {
          "output_type": "stream",
          "text": [
            "torch.Size([16, 128, 440])\n",
            "tensor([11, 30, 19, 22, 15, 24, 37, 39, 28, 18, 24, 23, 19, 29,  6,  9])\n"
          ],
          "name": "stdout"
        }
      ]
    },
    {
      "cell_type": "code",
      "metadata": {
        "id": "17E8ky8PqpQT"
      },
      "source": [
        ""
      ],
      "execution_count": null,
      "outputs": []
    }
  ]
}